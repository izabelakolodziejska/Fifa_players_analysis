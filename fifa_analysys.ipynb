{
 "cells": [
  {
   "cell_type": "markdown",
   "id": "fd2d2b06-f2fa-44ac-bc63-f68383d74311",
   "metadata": {},
   "source": [
    "# Analiza piłkarzy na podstawie danych z gry FIFA 24"
   ]
  },
  {
   "cell_type": "markdown",
   "id": "4b4e6b7a-8526-4f9d-afaa-34537747c66b",
   "metadata": {},
   "source": [
    "## Autorzy projektu\n",
    "- Oktawian Kausz (*217601*)\n",
    "- Izabela Kołodziejska (*217260*)\n",
    "- Piotr Kula (*217302*)\n",
    "- Kamil Marszałek (*217241*)"
   ]
  },
  {
   "cell_type": "markdown",
   "id": "2a95c01d-6ae2-4497-814a-95675a5128f8",
   "metadata": {},
   "source": [
    "## Streszczenie\n",
    "Poznanymi metodami statystycznymi uporządkowaliśmy piłkarzy występujących w grze **FIFA 24**. Dane pozyskaliśmy z dostępnej bazy danych w serwisie [Kaggle](https://www.kaggle.com/datasets/rehandl23/fifa-24-player-stats-dataset?resource=download) udostępnionych na licencji Apache 2.0. W celu przeanalizowania dostępnych danych skorzystaliśmy z takich metod jak <u>TOPSIS</u>, <u>SSW</u> oraz <u>regresji liniowej</u> co umożliwiło nam dojście do później opisanych wniosków."
   ]
  },
  {
   "cell_type": "markdown",
   "id": "c3ff1f2e-83b7-4953-967a-54b87ec5ee54",
   "metadata": {},
   "source": [
    "## Słowa kluczowe\n",
    "- **TOPSIS** - metoda wielokryterialnej analizy decyzyjnej, która służy do wyboru najlepszego wariantu spośród zestawu alternatyw\n",
    "- **SSW** - oznacza \"Sum of Squares Within\" (Suma Kwadratów Wewnątrzgrupowych), jest jednym z komponentów analizy wariancji (ANOVA), która służy do analizy różnic między średnimi kilku grup danych\n",
    "- **Regresja liniowa** - technika statystyczna wykorzystywana do modelowania związku między jedną lub więcej zmiennymi niezależnymi (zwanych również predyktorami) a zmienną zależną za pomocą prostej funkcji liniowej"
   ]
  },
  {
   "cell_type": "markdown",
   "id": "1f3dc30b-b49f-4c9a-9b43-9bcf97abfbd8",
   "metadata": {},
   "source": [
    "## Wprowadzenie"
   ]
  },
  {
   "cell_type": "markdown",
   "id": "a84bb244-e779-43fa-aaab-54c560f50f26",
   "metadata": {},
   "source": [
    "W świecie sportu analiza danych staje się coraz bardziej powszechną praktyką, która pozwalaja zarówno zawodnikom, jak i zespołom trenerskim na podejmowanie bardziej świadomych decyzji. W ramach niniejszego badania, skupiliśmy się na analizie piłkarzy występujących w grze FIFA 24."
   ]
  },
  {
   "cell_type": "markdown",
   "id": "e195f4fc-b7cc-49fc-af1a-f6ba19a50d76",
   "metadata": {},
   "source": [
    "### Przedmiot badania\n",
    "Przedmiotem badania są piłkarze, kraje z których się wywodzą oraz kluby, których są zawodnikami.\n"
   ]
  },
  {
   "cell_type": "markdown",
   "id": "186d21c6-80d2-491f-b584-4bb28b8d8333",
   "metadata": {},
   "source": [
    "### Cel i zakres badania \n",
    "Celem naszego badania jest porównanie piłkarzy z różnych krajów oraz klubów. Postawiliśmy sobie za cel uporządkowanie krajów od tych z których wywodzą się najlepsi zawodnicy ze świata piłki.\n"
   ]
  },
  {
   "cell_type": "markdown",
   "id": "9d0f077c-7a70-41ef-8c6d-3ebe9f739cb9",
   "metadata": {},
   "source": [
    "### Zmienne wybrane do analizy\n",
    "\n",
    "Z dostępnych danych zostały wybrane jedynie te, które zostały uznane za znaczące a niektóre z nich, takie jak *ball_uncontrol* powstały z ich odpowiadających cech w celu uzyskania destymulanty.\n",
    "\n",
    "Opis danych występujących w bazie:\n",
    "- **player** - imię oraz nazwisko piłkarza\n",
    "- **country** - narodowość lub kraj pochodzenia piłkarza\n",
    "- **height** - wzrost piłkarza w centymetrach\n",
    "- **age** - wiek piłkarza\n",
    "- **club** - klub w którym piłkarz aktualnie gra\n",
    "- **dribbling** - umiejętności piłkarza w drybblingu\n",
    "- **reactions** - czas reakcji piłkarza\n",
    "- **interceptions** - umiejętność piłkarza w przechwytywaniu podań\n",
    "- **vision** - wizja piłkarza na boisku\n",
    "- **stamina** - poziom wytrzymałości piłkarza\n",
    "- **strength** - poziom siły piłkarza\n",
    "- **balance** - balans piłkarza podczas gry\n",
    "- **sprint_speed** - prędkość piłkarza podczas sprintów\n",
    "- **agility** - poziom zwinności piłkarza\n",
    "- **ball_uncontrol** - poziom braku kontroli nad piłką piłkarza\n",
    "- **instability** - poziom niestabilności podczas gry\n",
    "\n",
    "Za stymulante służą następujące dane: *dribbling*, *reactions*, *interceptions*, *vision*, *stamina*, *strength*, *balance*, *sprint_speed* oraz *agility*. Destymulantą jest z kolei *ball_uncontrol* oraz *instability*."
   ]
  },
  {
   "cell_type": "markdown",
   "id": "7badf7f1-d19a-4379-88c3-c16439d0f212",
   "metadata": {},
   "source": [
    "Brakuje:\n",
    "        ◦ Przegląd literatury (min. 1 cytowanie powiązane tematycznie i krótki opis co było badane)\n",
    "            ▪ podstawowa wizualizacja – np. boxplot, histogramy\n",
    "            ▪ braki danych – czy występują i jak je obsłużono\n",
    "            ▪ obserwacje odstające i w jaki sposób je obsłużono\n",
    "    • Opis metod\n",
    "        ◦ wzory wraz z opisami oznaczeń\n",
    "        ◦ cytowanie pracy w której zaproponowano metodę/ewentualnie pracy, w której użyto metodę)\n",
    "    • Rezultaty (w postaci tabelarycznej i/lub graficznej oraz omówienie wyników)\n",
    "    • Podsumowanie (ocena realizacji celu, odniesienie do pozycji z przeglądu literatury)\n",
    "    • Bibliografia\n",
    "W przypadku porządkowania obiektów stworzenie minimum trzech rankingów (np. z różnych metod normalizacji, różnych metod porządkowania)"
   ]
  },
  {
   "cell_type": "markdown",
   "id": "ee4e0bc2-3fe6-4e69-beec-e5cb131c757b",
   "metadata": {},
   "source": [
    "## Import odpowiednich bibliotek oraz przegląd danych"
   ]
  },
  {
   "cell_type": "code",
   "execution_count": 25,
   "id": "17125df9-9555-4f96-b62a-c2f51c739cca",
   "metadata": {},
   "outputs": [],
   "source": [
    "import pandas as pd\n",
    "import seaborn as sns\n",
    "import matplotlib.pyplot as plt\n",
    "import numpy as np\n",
    "import plotly.express as px\n",
    "\n",
    "from plotly.offline import iplot, plot\n",
    "from sklearn.preprocessing import MinMaxScaler, StandardScaler, LabelEncoder\n",
    "from sklearn.decomposition import PCA\n",
    "from sklearn.preprocessing import StandardScaler\n",
    "seed = 2024\n",
    "\n",
    "colors = [\"#18eded\",\"#f25ed0\",\"#000000\",\"#16A085\",\"#34495E\",\n",
    "           \"#21618C \",\"#512E5F\",\"#45B39D\",\"#AAB7B8 \",\"#20B2AA\",\n",
    "           \"#FF69B4\",\"#00CED1\",\"#FF7F50\",\"#7FFF00\",\"#DA70D6\"]"
   ]
  },
  {
   "cell_type": "code",
   "execution_count": 26,
   "id": "713e17d9-a88c-4af3-9102-c40637fa7631",
   "metadata": {},
   "outputs": [
    {
     "data": {
      "text/html": [
       "<div>\n",
       "<style scoped>\n",
       "    .dataframe tbody tr th:only-of-type {\n",
       "        vertical-align: middle;\n",
       "    }\n",
       "\n",
       "    .dataframe tbody tr th {\n",
       "        vertical-align: top;\n",
       "    }\n",
       "\n",
       "    .dataframe thead th {\n",
       "        text-align: right;\n",
       "    }\n",
       "</style>\n",
       "<table border=\"1\" class=\"dataframe\">\n",
       "  <thead>\n",
       "    <tr style=\"text-align: right;\">\n",
       "      <th></th>\n",
       "      <th>player</th>\n",
       "      <th>country</th>\n",
       "      <th>height</th>\n",
       "      <th>age</th>\n",
       "      <th>club</th>\n",
       "      <th>dribbling</th>\n",
       "      <th>reactions</th>\n",
       "      <th>interceptions</th>\n",
       "      <th>vision</th>\n",
       "      <th>stamina</th>\n",
       "      <th>strength</th>\n",
       "      <th>balance</th>\n",
       "      <th>sprint_speed</th>\n",
       "      <th>agility</th>\n",
       "      <th>ball_uncontrol</th>\n",
       "      <th>instability</th>\n",
       "    </tr>\n",
       "  </thead>\n",
       "  <tbody>\n",
       "    <tr>\n",
       "      <th>0</th>\n",
       "      <td>Cristian Castro Devenish</td>\n",
       "      <td>Colombia</td>\n",
       "      <td>192</td>\n",
       "      <td>22</td>\n",
       "      <td>Atl. Nacional</td>\n",
       "      <td>43</td>\n",
       "      <td>68</td>\n",
       "      <td>65</td>\n",
       "      <td>30</td>\n",
       "      <td>55</td>\n",
       "      <td>86</td>\n",
       "      <td>40</td>\n",
       "      <td>52</td>\n",
       "      <td>43</td>\n",
       "      <td>45</td>\n",
       "      <td>50</td>\n",
       "    </tr>\n",
       "    <tr>\n",
       "      <th>1</th>\n",
       "      <td>Silaldo Taffarel</td>\n",
       "      <td>Brazil</td>\n",
       "      <td>181</td>\n",
       "      <td>31</td>\n",
       "      <td>Corinthians</td>\n",
       "      <td>70</td>\n",
       "      <td>70</td>\n",
       "      <td>70</td>\n",
       "      <td>64</td>\n",
       "      <td>87</td>\n",
       "      <td>81</td>\n",
       "      <td>42</td>\n",
       "      <td>67</td>\n",
       "      <td>65</td>\n",
       "      <td>31</td>\n",
       "      <td>46</td>\n",
       "    </tr>\n",
       "    <tr>\n",
       "      <th>2</th>\n",
       "      <td>Thomas Dähne</td>\n",
       "      <td>Germany</td>\n",
       "      <td>193</td>\n",
       "      <td>29</td>\n",
       "      <td>Holstein Kiel</td>\n",
       "      <td>12</td>\n",
       "      <td>65</td>\n",
       "      <td>20</td>\n",
       "      <td>49</td>\n",
       "      <td>38</td>\n",
       "      <td>68</td>\n",
       "      <td>41</td>\n",
       "      <td>48</td>\n",
       "      <td>36</td>\n",
       "      <td>75</td>\n",
       "      <td>52</td>\n",
       "    </tr>\n",
       "    <tr>\n",
       "      <th>3</th>\n",
       "      <td>Michael Sollbauer</td>\n",
       "      <td>Austria</td>\n",
       "      <td>187</td>\n",
       "      <td>33</td>\n",
       "      <td>SK Rapid Wien</td>\n",
       "      <td>48</td>\n",
       "      <td>64</td>\n",
       "      <td>66</td>\n",
       "      <td>29</td>\n",
       "      <td>73</td>\n",
       "      <td>82</td>\n",
       "      <td>56</td>\n",
       "      <td>63</td>\n",
       "      <td>57</td>\n",
       "      <td>54</td>\n",
       "      <td>30</td>\n",
       "    </tr>\n",
       "    <tr>\n",
       "      <th>4</th>\n",
       "      <td>Diego Segovia</td>\n",
       "      <td>Uruguay</td>\n",
       "      <td>191</td>\n",
       "      <td>23</td>\n",
       "      <td>Independiente</td>\n",
       "      <td>8</td>\n",
       "      <td>50</td>\n",
       "      <td>12</td>\n",
       "      <td>38</td>\n",
       "      <td>28</td>\n",
       "      <td>64</td>\n",
       "      <td>24</td>\n",
       "      <td>31</td>\n",
       "      <td>34</td>\n",
       "      <td>86</td>\n",
       "      <td>66</td>\n",
       "    </tr>\n",
       "  </tbody>\n",
       "</table>\n",
       "</div>"
      ],
      "text/plain": [
       "                     player   country  height  age            club  dribbling  \\\n",
       "0  Cristian Castro Devenish  Colombia     192   22  Atl. Nacional          43   \n",
       "1          Silaldo Taffarel    Brazil     181   31    Corinthians          70   \n",
       "2              Thomas Dähne   Germany     193   29  Holstein Kiel          12   \n",
       "3         Michael Sollbauer   Austria     187   33  SK Rapid Wien          48   \n",
       "4             Diego Segovia   Uruguay     191   23  Independiente           8   \n",
       "\n",
       "   reactions  interceptions  vision  stamina  strength  balance  sprint_speed  \\\n",
       "0         68             65      30       55        86       40            52   \n",
       "1         70             70      64       87        81       42            67   \n",
       "2         65             20      49       38        68       41            48   \n",
       "3         64             66      29       73        82       56            63   \n",
       "4         50             12      38       28        64       24            31   \n",
       "\n",
       "   agility  ball_uncontrol  instability  \n",
       "0       43              45           50  \n",
       "1       65              31           46  \n",
       "2       36              75           52  \n",
       "3       57              54           30  \n",
       "4       34              86           66  "
      ]
     },
     "execution_count": 26,
     "metadata": {},
     "output_type": "execute_result"
    }
   ],
   "source": [
    "data = pd.read_excel('FIFA_MAD_dane.xlsx')\n",
    "data.head()"
   ]
  },
  {
   "cell_type": "code",
   "execution_count": 27,
   "id": "47f55952-17bb-4acb-b428-9b0579870fdf",
   "metadata": {},
   "outputs": [
    {
     "data": {
      "text/html": [
       "<div>\n",
       "<style scoped>\n",
       "    .dataframe tbody tr th:only-of-type {\n",
       "        vertical-align: middle;\n",
       "    }\n",
       "\n",
       "    .dataframe tbody tr th {\n",
       "        vertical-align: top;\n",
       "    }\n",
       "\n",
       "    .dataframe thead th {\n",
       "        text-align: right;\n",
       "    }\n",
       "</style>\n",
       "<table border=\"1\" class=\"dataframe\">\n",
       "  <thead>\n",
       "    <tr style=\"text-align: right;\">\n",
       "      <th></th>\n",
       "      <th>height</th>\n",
       "      <th>age</th>\n",
       "      <th>dribbling</th>\n",
       "      <th>reactions</th>\n",
       "      <th>interceptions</th>\n",
       "      <th>vision</th>\n",
       "      <th>stamina</th>\n",
       "      <th>strength</th>\n",
       "      <th>balance</th>\n",
       "      <th>sprint_speed</th>\n",
       "      <th>agility</th>\n",
       "      <th>ball_uncontrol</th>\n",
       "      <th>instability</th>\n",
       "    </tr>\n",
       "  </thead>\n",
       "  <tbody>\n",
       "    <tr>\n",
       "      <th>count</th>\n",
       "      <td>5682.000000</td>\n",
       "      <td>5682.000000</td>\n",
       "      <td>5682.000000</td>\n",
       "      <td>5682.000000</td>\n",
       "      <td>5682.000000</td>\n",
       "      <td>5682.000000</td>\n",
       "      <td>5682.000000</td>\n",
       "      <td>5682.000000</td>\n",
       "      <td>5682.000000</td>\n",
       "      <td>5682.000000</td>\n",
       "      <td>5682.000000</td>\n",
       "      <td>5682.000000</td>\n",
       "      <td>5682.000000</td>\n",
       "    </tr>\n",
       "    <tr>\n",
       "      <th>mean</th>\n",
       "      <td>181.670539</td>\n",
       "      <td>26.316262</td>\n",
       "      <td>56.128476</td>\n",
       "      <td>61.959345</td>\n",
       "      <td>47.389124</td>\n",
       "      <td>54.465681</td>\n",
       "      <td>63.377332</td>\n",
       "      <td>65.381204</td>\n",
       "      <td>64.070398</td>\n",
       "      <td>64.958993</td>\n",
       "      <td>63.780535</td>\n",
       "      <td>41.087821</td>\n",
       "      <td>41.379092</td>\n",
       "    </tr>\n",
       "    <tr>\n",
       "      <th>std</th>\n",
       "      <td>6.829238</td>\n",
       "      <td>4.729967</td>\n",
       "      <td>18.772075</td>\n",
       "      <td>8.893309</td>\n",
       "      <td>20.451327</td>\n",
       "      <td>13.705286</td>\n",
       "      <td>16.105897</td>\n",
       "      <td>12.624053</td>\n",
       "      <td>14.495444</td>\n",
       "      <td>15.114044</td>\n",
       "      <td>14.857875</td>\n",
       "      <td>16.567068</td>\n",
       "      <td>12.024102</td>\n",
       "    </tr>\n",
       "    <tr>\n",
       "      <th>min</th>\n",
       "      <td>156.000000</td>\n",
       "      <td>17.000000</td>\n",
       "      <td>5.000000</td>\n",
       "      <td>32.000000</td>\n",
       "      <td>3.000000</td>\n",
       "      <td>10.000000</td>\n",
       "      <td>14.000000</td>\n",
       "      <td>25.000000</td>\n",
       "      <td>20.000000</td>\n",
       "      <td>13.000000</td>\n",
       "      <td>21.000000</td>\n",
       "      <td>6.000000</td>\n",
       "      <td>4.000000</td>\n",
       "    </tr>\n",
       "    <tr>\n",
       "      <th>25%</th>\n",
       "      <td>177.000000</td>\n",
       "      <td>23.000000</td>\n",
       "      <td>51.000000</td>\n",
       "      <td>56.000000</td>\n",
       "      <td>28.000000</td>\n",
       "      <td>45.000000</td>\n",
       "      <td>56.000000</td>\n",
       "      <td>58.000000</td>\n",
       "      <td>56.000000</td>\n",
       "      <td>57.000000</td>\n",
       "      <td>56.000000</td>\n",
       "      <td>31.000000</td>\n",
       "      <td>33.000000</td>\n",
       "    </tr>\n",
       "    <tr>\n",
       "      <th>50%</th>\n",
       "      <td>182.000000</td>\n",
       "      <td>26.000000</td>\n",
       "      <td>62.000000</td>\n",
       "      <td>62.000000</td>\n",
       "      <td>54.000000</td>\n",
       "      <td>56.000000</td>\n",
       "      <td>66.000000</td>\n",
       "      <td>66.500000</td>\n",
       "      <td>66.000000</td>\n",
       "      <td>68.000000</td>\n",
       "      <td>66.000000</td>\n",
       "      <td>37.000000</td>\n",
       "      <td>40.000000</td>\n",
       "    </tr>\n",
       "    <tr>\n",
       "      <th>75%</th>\n",
       "      <td>186.000000</td>\n",
       "      <td>30.000000</td>\n",
       "      <td>68.000000</td>\n",
       "      <td>68.000000</td>\n",
       "      <td>64.000000</td>\n",
       "      <td>65.000000</td>\n",
       "      <td>74.000000</td>\n",
       "      <td>74.000000</td>\n",
       "      <td>74.000000</td>\n",
       "      <td>75.000000</td>\n",
       "      <td>74.000000</td>\n",
       "      <td>45.000000</td>\n",
       "      <td>48.000000</td>\n",
       "    </tr>\n",
       "    <tr>\n",
       "      <th>max</th>\n",
       "      <td>204.000000</td>\n",
       "      <td>41.000000</td>\n",
       "      <td>95.000000</td>\n",
       "      <td>93.000000</td>\n",
       "      <td>89.000000</td>\n",
       "      <td>94.000000</td>\n",
       "      <td>95.000000</td>\n",
       "      <td>96.000000</td>\n",
       "      <td>95.000000</td>\n",
       "      <td>97.000000</td>\n",
       "      <td>93.000000</td>\n",
       "      <td>92.000000</td>\n",
       "      <td>87.000000</td>\n",
       "    </tr>\n",
       "  </tbody>\n",
       "</table>\n",
       "</div>"
      ],
      "text/plain": [
       "            height          age    dribbling    reactions  interceptions  \\\n",
       "count  5682.000000  5682.000000  5682.000000  5682.000000    5682.000000   \n",
       "mean    181.670539    26.316262    56.128476    61.959345      47.389124   \n",
       "std       6.829238     4.729967    18.772075     8.893309      20.451327   \n",
       "min     156.000000    17.000000     5.000000    32.000000       3.000000   \n",
       "25%     177.000000    23.000000    51.000000    56.000000      28.000000   \n",
       "50%     182.000000    26.000000    62.000000    62.000000      54.000000   \n",
       "75%     186.000000    30.000000    68.000000    68.000000      64.000000   \n",
       "max     204.000000    41.000000    95.000000    93.000000      89.000000   \n",
       "\n",
       "            vision      stamina     strength      balance  sprint_speed  \\\n",
       "count  5682.000000  5682.000000  5682.000000  5682.000000   5682.000000   \n",
       "mean     54.465681    63.377332    65.381204    64.070398     64.958993   \n",
       "std      13.705286    16.105897    12.624053    14.495444     15.114044   \n",
       "min      10.000000    14.000000    25.000000    20.000000     13.000000   \n",
       "25%      45.000000    56.000000    58.000000    56.000000     57.000000   \n",
       "50%      56.000000    66.000000    66.500000    66.000000     68.000000   \n",
       "75%      65.000000    74.000000    74.000000    74.000000     75.000000   \n",
       "max      94.000000    95.000000    96.000000    95.000000     97.000000   \n",
       "\n",
       "           agility  ball_uncontrol  instability  \n",
       "count  5682.000000     5682.000000  5682.000000  \n",
       "mean     63.780535       41.087821    41.379092  \n",
       "std      14.857875       16.567068    12.024102  \n",
       "min      21.000000        6.000000     4.000000  \n",
       "25%      56.000000       31.000000    33.000000  \n",
       "50%      66.000000       37.000000    40.000000  \n",
       "75%      74.000000       45.000000    48.000000  \n",
       "max      93.000000       92.000000    87.000000  "
      ]
     },
     "execution_count": 27,
     "metadata": {},
     "output_type": "execute_result"
    }
   ],
   "source": [
    "data.describe()"
   ]
  },
  {
   "cell_type": "markdown",
   "id": "ff61f993-20b0-461d-ab0c-995eb9c79622",
   "metadata": {},
   "source": [
    "### Wstępna analiza danych"
   ]
  },
  {
   "cell_type": "code",
   "execution_count": 28,
   "id": "8293646e-72a6-4c44-9130-87586f1b1fd6",
   "metadata": {},
   "outputs": [
    {
     "data": {
      "text/html": [
       "<div>\n",
       "<style scoped>\n",
       "    .dataframe tbody tr th:only-of-type {\n",
       "        vertical-align: middle;\n",
       "    }\n",
       "\n",
       "    .dataframe tbody tr th {\n",
       "        vertical-align: top;\n",
       "    }\n",
       "\n",
       "    .dataframe thead th {\n",
       "        text-align: right;\n",
       "    }\n",
       "</style>\n",
       "<table border=\"1\" class=\"dataframe\">\n",
       "  <thead>\n",
       "    <tr style=\"text-align: right;\">\n",
       "      <th></th>\n",
       "      <th></th>\n",
       "      <th>dribbling</th>\n",
       "      <th>reactions</th>\n",
       "      <th>interceptions</th>\n",
       "      <th>vision</th>\n",
       "      <th>stamina</th>\n",
       "      <th>strength</th>\n",
       "      <th>balance</th>\n",
       "      <th>sprint_speed</th>\n",
       "      <th>agility</th>\n",
       "      <th>ball_uncontrol</th>\n",
       "      <th>instability</th>\n",
       "    </tr>\n",
       "  </thead>\n",
       "  <tbody>\n",
       "    <tr>\n",
       "      <th>0</th>\n",
       "      <td>Średnia</td>\n",
       "      <td>56.13</td>\n",
       "      <td>61.96</td>\n",
       "      <td>47.39</td>\n",
       "      <td>54.47</td>\n",
       "      <td>63.38</td>\n",
       "      <td>65.38</td>\n",
       "      <td>64.07</td>\n",
       "      <td>64.96</td>\n",
       "      <td>63.78</td>\n",
       "      <td>41.09</td>\n",
       "      <td>41.38</td>\n",
       "    </tr>\n",
       "    <tr>\n",
       "      <th>1</th>\n",
       "      <td>Odchylenie standardowe</td>\n",
       "      <td>18.77</td>\n",
       "      <td>8.89</td>\n",
       "      <td>20.45</td>\n",
       "      <td>13.70</td>\n",
       "      <td>16.10</td>\n",
       "      <td>12.62</td>\n",
       "      <td>14.49</td>\n",
       "      <td>15.11</td>\n",
       "      <td>14.86</td>\n",
       "      <td>16.57</td>\n",
       "      <td>12.02</td>\n",
       "    </tr>\n",
       "    <tr>\n",
       "      <th>2</th>\n",
       "      <td>Mediana</td>\n",
       "      <td>62.00</td>\n",
       "      <td>62.00</td>\n",
       "      <td>54.00</td>\n",
       "      <td>56.00</td>\n",
       "      <td>66.00</td>\n",
       "      <td>66.50</td>\n",
       "      <td>66.00</td>\n",
       "      <td>68.00</td>\n",
       "      <td>66.00</td>\n",
       "      <td>37.00</td>\n",
       "      <td>40.00</td>\n",
       "    </tr>\n",
       "    <tr>\n",
       "      <th>3</th>\n",
       "      <td>Kwartyl 25%</td>\n",
       "      <td>51.00</td>\n",
       "      <td>56.00</td>\n",
       "      <td>28.00</td>\n",
       "      <td>45.00</td>\n",
       "      <td>56.00</td>\n",
       "      <td>58.00</td>\n",
       "      <td>56.00</td>\n",
       "      <td>57.00</td>\n",
       "      <td>56.00</td>\n",
       "      <td>31.00</td>\n",
       "      <td>33.00</td>\n",
       "    </tr>\n",
       "    <tr>\n",
       "      <th>4</th>\n",
       "      <td>Kwatyl 50%</td>\n",
       "      <td>62.00</td>\n",
       "      <td>62.00</td>\n",
       "      <td>54.00</td>\n",
       "      <td>56.00</td>\n",
       "      <td>66.00</td>\n",
       "      <td>66.50</td>\n",
       "      <td>66.00</td>\n",
       "      <td>68.00</td>\n",
       "      <td>66.00</td>\n",
       "      <td>37.00</td>\n",
       "      <td>40.00</td>\n",
       "    </tr>\n",
       "    <tr>\n",
       "      <th>5</th>\n",
       "      <td>Kwatyl 75%</td>\n",
       "      <td>68.00</td>\n",
       "      <td>68.00</td>\n",
       "      <td>64.00</td>\n",
       "      <td>65.00</td>\n",
       "      <td>74.00</td>\n",
       "      <td>74.00</td>\n",
       "      <td>74.00</td>\n",
       "      <td>75.00</td>\n",
       "      <td>74.00</td>\n",
       "      <td>45.00</td>\n",
       "      <td>48.00</td>\n",
       "    </tr>\n",
       "    <tr>\n",
       "      <th>6</th>\n",
       "      <td>Minimum</td>\n",
       "      <td>5.00</td>\n",
       "      <td>32.00</td>\n",
       "      <td>3.00</td>\n",
       "      <td>10.00</td>\n",
       "      <td>14.00</td>\n",
       "      <td>25.00</td>\n",
       "      <td>20.00</td>\n",
       "      <td>13.00</td>\n",
       "      <td>21.00</td>\n",
       "      <td>6.00</td>\n",
       "      <td>4.00</td>\n",
       "    </tr>\n",
       "    <tr>\n",
       "      <th>7</th>\n",
       "      <td>Maksimum</td>\n",
       "      <td>95.00</td>\n",
       "      <td>93.00</td>\n",
       "      <td>89.00</td>\n",
       "      <td>94.00</td>\n",
       "      <td>95.00</td>\n",
       "      <td>96.00</td>\n",
       "      <td>95.00</td>\n",
       "      <td>97.00</td>\n",
       "      <td>93.00</td>\n",
       "      <td>92.00</td>\n",
       "      <td>87.00</td>\n",
       "    </tr>\n",
       "    <tr>\n",
       "      <th>8</th>\n",
       "      <td>Skośność</td>\n",
       "      <td>-1.22</td>\n",
       "      <td>-0.08</td>\n",
       "      <td>-0.41</td>\n",
       "      <td>-0.34</td>\n",
       "      <td>-0.95</td>\n",
       "      <td>-0.42</td>\n",
       "      <td>-0.64</td>\n",
       "      <td>-0.94</td>\n",
       "      <td>-0.67</td>\n",
       "      <td>1.40</td>\n",
       "      <td>0.50</td>\n",
       "    </tr>\n",
       "  </tbody>\n",
       "</table>\n",
       "</div>"
      ],
      "text/plain": [
       "                           dribbling  reactions  interceptions  vision  \\\n",
       "0                 Średnia      56.13      61.96          47.39   54.47   \n",
       "1  Odchylenie standardowe      18.77       8.89          20.45   13.70   \n",
       "2                 Mediana      62.00      62.00          54.00   56.00   \n",
       "3             Kwartyl 25%      51.00      56.00          28.00   45.00   \n",
       "4              Kwatyl 50%      62.00      62.00          54.00   56.00   \n",
       "5              Kwatyl 75%      68.00      68.00          64.00   65.00   \n",
       "6                 Minimum       5.00      32.00           3.00   10.00   \n",
       "7                Maksimum      95.00      93.00          89.00   94.00   \n",
       "8                Skośność      -1.22      -0.08          -0.41   -0.34   \n",
       "\n",
       "   stamina  strength  balance  sprint_speed  agility  ball_uncontrol  \\\n",
       "0    63.38     65.38    64.07         64.96    63.78           41.09   \n",
       "1    16.10     12.62    14.49         15.11    14.86           16.57   \n",
       "2    66.00     66.50    66.00         68.00    66.00           37.00   \n",
       "3    56.00     58.00    56.00         57.00    56.00           31.00   \n",
       "4    66.00     66.50    66.00         68.00    66.00           37.00   \n",
       "5    74.00     74.00    74.00         75.00    74.00           45.00   \n",
       "6    14.00     25.00    20.00         13.00    21.00            6.00   \n",
       "7    95.00     96.00    95.00         97.00    93.00           92.00   \n",
       "8    -0.95     -0.42    -0.64         -0.94    -0.67            1.40   \n",
       "\n",
       "   instability  \n",
       "0        41.38  \n",
       "1        12.02  \n",
       "2        40.00  \n",
       "3        33.00  \n",
       "4        40.00  \n",
       "5        48.00  \n",
       "6         4.00  \n",
       "7        87.00  \n",
       "8         0.50  "
      ]
     },
     "execution_count": 28,
     "metadata": {},
     "output_type": "execute_result"
    }
   ],
   "source": [
    "values = pd.read_excel('FIFA_MAD_dane.xlsx', sheet_name='wartosci')\n",
    "values.head(9)"
   ]
  },
  {
   "cell_type": "markdown",
   "id": "95e1b87a-1de9-4a4e-93ee-ca56250574d0",
   "metadata": {},
   "source": [
    "### Boxploty"
   ]
  },
  {
   "cell_type": "markdown",
   "id": "1ed15c3d-3fdc-4754-99ab-8c955f0d5b7d",
   "metadata": {},
   "source": [
    "Poniżej przedstawiono graficzny rozkład posiadanych przez nas cech statystycznych. W przypadku niektórych z nich, takich jak driblling można zauważyć dużą część wartości odstających, które pokazują jak zróżnicowane są dane. Nie świadczą one o błędach pomiarowych."
   ]
  },
  {
   "cell_type": "code",
   "execution_count": 29,
   "id": "d9776a5e-3aa4-4292-9684-6e35f33081d1",
   "metadata": {},
   "outputs": [
    {
     "data": {
      "text/plain": [
       "<Axes: >"
      ]
     },
     "execution_count": 29,
     "metadata": {},
     "output_type": "execute_result"
    },
    {
     "data": {
      "image/png": "[encoded data removed]",
      "text/plain": [
       "<Figure size 700x400 with 1 Axes>"
      ]
     },
     "metadata": {},
     "output_type": "display_data"
    },
    {
     "data": {
      "image/png": "[encoded data removed]",
      "text/plain": [
       "<Figure size 700x400 with 1 Axes>"
      ]
     },
     "metadata": {},
     "output_type": "display_data"
    }
   ],
   "source": [
    "df = pd.DataFrame(data)\n",
    "plt.figure(figsize=(7, 4))\n",
    "df.boxplot([\"age\", \"dribbling\", \"reactions\", \"interceptions\", \"vision\", \"stamina\"], patch_artist=True, vert= False)\n",
    "plt.figure(figsize=(7, 4))\n",
    "df.boxplot([\"strength\", \"balance\", \"sprint_speed\", \"agility\", \"ball_uncontrol\", \"instability\"], patch_artist=True, vert= False)"
   ]
  },
  {
   "cell_type": "markdown",
   "id": "91336885-8a59-434c-96fd-36afd5b09a65",
   "metadata": {},
   "source": [
    "### Kraje z których pochodzą piłkarze"
   ]
  },
  {
   "cell_type": "markdown",
   "id": "3de2f7f8-1c8b-4085-82ea-b02c71eb1d0f",
   "metadata": {},
   "source": [
    "Histogram z krajami z których pochodzą piłkarze z naszej bazy danych pokazuje, że najwięcej z nich jest kolejno z Anglii, Niemiec oraz Hiszpanii."
   ]
  },
  {
   "cell_type": "code",
   "execution_count": 30,
   "id": "d738ffa3-549e-439f-8a4d-5f1b013234c8",
   "metadata": {},
   "outputs": [
    {
     "data": {
      "image/png": "[encoded data removed]",
      "text/plain": [
       "<Figure size 800x500 with 1 Axes>"
      ]
     },
     "metadata": {},
     "output_type": "display_data"
    }
   ],
   "source": [
    "df = pd.DataFrame(data)\n",
    "country_counts = df['country'].value_counts()\n",
    "top_10_countries = country_counts.head(10)\n",
    "plt.figure(figsize=(8, 5))\n",
    "plt.bar(top_10_countries.index, top_10_countries)\n",
    "plt.xticks(rotation=45)\n",
    "plt.show()"
   ]
  },
  {
   "cell_type": "markdown",
   "id": "42e4d246-021e-470a-9443-3bd920338577",
   "metadata": {},
   "source": [
    "## Usuwanie duplikatów"
   ]
  },
  {
   "cell_type": "code",
   "execution_count": 31,
   "id": "2a6f7fe5-20c2-49a2-9600-ef6fac9b7dce",
   "metadata": {},
   "outputs": [
    {
     "name": "stdout",
     "output_type": "stream",
     "text": [
      "The Number of duplicated : 3\n"
     ]
    }
   ],
   "source": [
    "print(f\"The Number of duplicated : {data.duplicated().sum()}\")"
   ]
  },
  {
   "cell_type": "markdown",
   "id": "87a3e1e3-5ba5-4a63-b0f0-2e4ed7d0a05e",
   "metadata": {},
   "source": [
    "W naszej bazie danych znaleźliśmy 3 duplikaty, które należy usunąć. Skorzystamy w tym celu z funkcji *drop_duplicates*, która nam to umożliwi."
   ]
  },
  {
   "cell_type": "code",
   "execution_count": 32,
   "id": "29db8cb1-add9-4152-8e6a-903604fdc8ad",
   "metadata": {},
   "outputs": [],
   "source": [
    "data.drop_duplicates(inplace=True)"
   ]
  },
  {
   "cell_type": "code",
   "execution_count": 33,
   "id": "006ebb36-0be2-48af-a321-1201d9533c4f",
   "metadata": {},
   "outputs": [
    {
     "name": "stdout",
     "output_type": "stream",
     "text": [
      "The Number of duplicated : 0\n"
     ]
    }
   ],
   "source": [
    "print(f\"The Number of duplicated : {data.duplicated().sum()}\")"
   ]
  },
  {
   "cell_type": "markdown",
   "id": "721a6618-5e86-4a44-9f96-f0a235bcb2f5",
   "metadata": {},
   "source": [
    "Po wykonaniu odpowiedniego polecenia, usunięto zduplikowane dane."
   ]
  },
  {
   "cell_type": "markdown",
   "id": "cba2c00f-16c9-4007-8207-6f2f1a3f6463",
   "metadata": {},
   "source": [
    "## Standaryzacja danych do użycia w analizie składowych głównych (PCA)"
   ]
  },
  {
   "cell_type": "code",
   "execution_count": 34,
   "id": "29b3bd65-fc1f-4317-b943-9b833e6d98df",
   "metadata": {},
   "outputs": [],
   "source": [
    "data_with_numbers = data.drop(['player', 'country', 'club', 'age', 'height'], axis=1)\n",
    "scaler = StandardScaler()\n",
    "df = scaler.fit_transform(data_with_numbers)"
   ]
  },
  {
   "cell_type": "markdown",
   "id": "4483f104-8912-478a-ad1b-23667ca0f574",
   "metadata": {},
   "source": [
    "wykonanie PCA"
   ]
  },
  {
   "cell_type": "code",
   "execution_count": 35,
   "id": "bc545b74-05ef-4988-8ab8-2bbc20aebd69",
   "metadata": {
    "scrolled": true
   },
   "outputs": [
    {
     "data": {
      "text/html": [
       "<style>#sk-container-id-2 {color: black;background-color: white;}#sk-container-id-2 pre{padding: 0;}#sk-container-id-2 div.sk-toggleable {background-color: white;}#sk-container-id-2 label.sk-toggleable__label {cursor: pointer;display: block;width: 100%;margin-bottom: 0;padding: 0.3em;box-sizing: border-box;text-align: center;}#sk-container-id-2 label.sk-toggleable__label-arrow:before {content: \"▸\";float: left;margin-right: 0.25em;color: #696969;}#sk-container-id-2 label.sk-toggleable__label-arrow:hover:before {color: black;}#sk-container-id-2 div.sk-estimator:hover label.sk-toggleable__label-arrow:before {color: black;}#sk-container-id-2 div.sk-toggleable__content {max-height: 0;max-width: 0;overflow: hidden;text-align: left;background-color: #f0f8ff;}#sk-container-id-2 div.sk-toggleable__content pre {margin: 0.2em;color: black;border-radius: 0.25em;background-color: #f0f8ff;}#sk-container-id-2 input.sk-toggleable__control:checked~div.sk-toggleable__content {max-height: 200px;max-width: 100%;overflow: auto;}#sk-container-id-2 input.sk-toggleable__control:checked~label.sk-toggleable__label-arrow:before {content: \"▾\";}#sk-container-id-2 div.sk-estimator input.sk-toggleable__control:checked~label.sk-toggleable__label {background-color: #d4ebff;}#sk-container-id-2 div.sk-label input.sk-toggleable__control:checked~label.sk-toggleable__label {background-color: #d4ebff;}#sk-container-id-2 input.sk-hidden--visually {border: 0;clip: rect(1px 1px 1px 1px);clip: rect(1px, 1px, 1px, 1px);height: 1px;margin: -1px;overflow: hidden;padding: 0;position: absolute;width: 1px;}#sk-container-id-2 div.sk-estimator {font-family: monospace;background-color: #f0f8ff;border: 1px dotted black;border-radius: 0.25em;box-sizing: border-box;margin-bottom: 0.5em;}#sk-container-id-2 div.sk-estimator:hover {background-color: #d4ebff;}#sk-container-id-2 div.sk-parallel-item::after {content: \"\";width: 100%;border-bottom: 1px solid gray;flex-grow: 1;}#sk-container-id-2 div.sk-label:hover label.sk-toggleable__label {background-color: #d4ebff;}#sk-container-id-2 div.sk-serial::before {content: \"\";position: absolute;border-left: 1px solid gray;box-sizing: border-box;top: 0;bottom: 0;left: 50%;z-index: 0;}#sk-container-id-2 div.sk-serial {display: flex;flex-direction: column;align-items: center;background-color: white;padding-right: 0.2em;padding-left: 0.2em;position: relative;}#sk-container-id-2 div.sk-item {position: relative;z-index: 1;}#sk-container-id-2 div.sk-parallel {display: flex;align-items: stretch;justify-content: center;background-color: white;position: relative;}#sk-container-id-2 div.sk-item::before, #sk-container-id-2 div.sk-parallel-item::before {content: \"\";position: absolute;border-left: 1px solid gray;box-sizing: border-box;top: 0;bottom: 0;left: 50%;z-index: -1;}#sk-container-id-2 div.sk-parallel-item {display: flex;flex-direction: column;z-index: 1;position: relative;background-color: white;}#sk-container-id-2 div.sk-parallel-item:first-child::after {align-self: flex-end;width: 50%;}#sk-container-id-2 div.sk-parallel-item:last-child::after {align-self: flex-start;width: 50%;}#sk-container-id-2 div.sk-parallel-item:only-child::after {width: 0;}#sk-container-id-2 div.sk-dashed-wrapped {border: 1px dashed gray;margin: 0 0.4em 0.5em 0.4em;box-sizing: border-box;padding-bottom: 0.4em;background-color: white;}#sk-container-id-2 div.sk-label label {font-family: monospace;font-weight: bold;display: inline-block;line-height: 1.2em;}#sk-container-id-2 div.sk-label-container {text-align: center;}#sk-container-id-2 div.sk-container {/* jupyter's `normalize.less` sets `[hidden] { display: none; }` but bootstrap.min.css set `[hidden] { display: none !important; }` so we also need the `!important` here to be able to override the default hidden behavior on the sphinx rendered scikit-learn.org. See: https://github.com/scikit-learn/scikit-learn/issues/21755 */display: inline-block !important;position: relative;}#sk-container-id-2 div.sk-text-repr-fallback {display: none;}</style><div id=\"sk-container-id-2\" class=\"sk-top-container\"><div class=\"sk-text-repr-fallback\"><pre>PCA(n_components=3)</pre><b>In a Jupyter environment, please rerun this cell to show the HTML representation or trust the notebook. <br />On GitHub, the HTML representation is unable to render, please try loading this page with nbviewer.org.</b></div><div class=\"sk-container\" hidden><div class=\"sk-item\"><div class=\"sk-estimator sk-toggleable\"><input class=\"sk-toggleable__control sk-hidden--visually\" id=\"sk-estimator-id-2\" type=\"checkbox\" checked><label for=\"sk-estimator-id-2\" class=\"sk-toggleable__label sk-toggleable__label-arrow\">PCA</label><div class=\"sk-toggleable__content\"><pre>PCA(n_components=3)</pre></div></div></div></div></div>"
      ],
      "text/plain": [
       "PCA(n_components=3)"
      ]
     },
     "execution_count": 35,
     "metadata": {},
     "output_type": "execute_result"
    }
   ],
   "source": [
    "pca = PCA(n_components=3)\n",
    "pca.fit(df)"
   ]
  },
  {
   "cell_type": "markdown",
   "id": "982e96b3-9203-4513-bf0f-a5bfabde71ba",
   "metadata": {},
   "source": [
    "## Interpretacja wyników: które cechy mają największy wpływ na róznice między piłkarzami. \n",
    "Wykorzystywana jest analiza współczynników ładunku głównych składowych PC. Wartości te określają jak bardzo każda cecha przyczynia się do każdej głównej składowej.\n",
    "- Wartości bliskie zeru wskazują na to, że dana cecha ma mały wpływ na dany komponent główny.\n",
    "- Dodatnie wartości wskazują na pozytywną korelację między daną cechą a danym komponentem głównym, podczas gdy ujemne wartości wskazują na negatywną korelację.\n",
    "- Im większa wartość bezwzględna, tym większy wpływ ma dana cecha na dany komponent główny."
   ]
  },
  {
   "cell_type": "code",
   "execution_count": 36,
   "id": "f0ae7455-aee2-4d54-900d-27f0cd914313",
   "metadata": {},
   "outputs": [
    {
     "name": "stdout",
     "output_type": "stream",
     "text": [
      "   dribbling  reactions  interceptions    vision   stamina  strength  \\\n",
      "0  -0.378059  -0.229620      -0.203371 -0.313205 -0.331910 -0.040770   \n",
      "1   0.085818  -0.369151      -0.337796  0.019068 -0.147344 -0.624370   \n",
      "2   0.006284   0.462677      -0.509362  0.468285 -0.358013 -0.157744   \n",
      "\n",
      "    balance  sprint_speed   agility  ball_uncontrol  instability  \n",
      "0 -0.302756     -0.310212 -0.335583        0.380502     0.328286  \n",
      "1  0.361536      0.212303  0.307902        0.024688     0.243209  \n",
      "2 -0.089298     -0.251873 -0.023211        0.019319    -0.285951  \n"
     ]
    }
   ],
   "source": [
    "loadings = pca.components_\n",
    "loadings_df = pd.DataFrame(loadings, columns=data_with_numbers.columns)\n",
    "print(loadings_df)"
   ]
  },
  {
   "cell_type": "markdown",
   "id": "d52fae36-eec1-4da5-b56c-7c2b45892b08",
   "metadata": {},
   "source": [
    "## Wnioski\n",
    "- pierwsza główna składowa (indeks 0): największy wpływ na tę składową mają zmienne <b>dribbling, vision, stamina, balance, sprint_speed, agility</b>. Wszystkie te zmienne mają ujemne ładunki, co oznacza, że im wyższa jest wartość tych zmiennych, tym niższa jest wartość tej głównej składowej. Zmienne <b>ball_uncontrol i instability</b> mają dodatni ładunek, co oznacza, że im wyższa jest wartość tych zmiennych, tym wyższa jest wartość tej głównej składowej.\n",
    "- druga główna składowa (indeks 1) : zmienne ujemne o największym wpływie: <b>reactions, interceptions, strength</b> zmienne dodatnie: <b>balance, agility</b>\n",
    "- trzecia główna składowa (indeks 2): ujemne zmienne: <b>interceptions, stamina</b> dodatnie zmienne: <b>reactions, vision</b>\n",
    "### Ogólnie wynika, że cechy takie jak reactions, interceptions, instability najbardziej wpływają na różnice między piłkarzami."
   ]
  },
  {
   "cell_type": "code",
   "execution_count": 37,
   "id": "889bc2e4-8709-4172-99f9-304540aa6512",
   "metadata": {},
   "outputs": [
    {
     "data": {
      "image/png": "[encoded data removed]",
      "text/plain": [
       "<Figure size 640x480 with 1 Axes>"
      ]
     },
     "metadata": {},
     "output_type": "display_data"
    }
   ],
   "source": [
    "pca_data = pca.transform(df)\n",
    "plt.scatter(pca_data[:,0], pca_data[:,1])\n",
    "plt.xlabel('PC1')\n",
    "plt.ylabel('PC2')\n",
    "plt.title('PCA')\n",
    "plt.show()"
   ]
  },
  {
   "cell_type": "markdown",
   "id": "e0f2f92a-812b-46cf-bae9-ca2aaada3d66",
   "metadata": {},
   "source": [
    "# Metoda TOPSIS"
   ]
  },
  {
   "cell_type": "markdown",
   "id": "31402534-7333-4605-9196-0fc04118a8df",
   "metadata": {},
   "source": [
    "Metoda TOPSIS (ang. Technique for Order Preference by Similarity to Ideal Solution) jest wielokryterialną metodą analizy decyzyjnej, służącą do porządkowania i wyboru wariantów decyzyjnych w oparciu o zestaw kryteriów."
   ]
  },
  {
   "cell_type": "markdown",
   "id": "d89c7000-8e3f-4345-b23b-04b4152bd7c3",
   "metadata": {},
   "source": [
    "Na początek wyznaczamy znormalizowaną macierz decyzyjną: $R = (r_{ij}) $"
   ]
  },
  {
   "cell_type": "markdown",
   "id": "0afd3e80-d02b-469a-bbb6-187cdcbf76cd",
   "metadata": {},
   "source": [
    "$$ r_{ij} = \\frac{x_{ij}}{\\sqrt{\\sum_{k=1}^m x_{kj}^2}} $$"
   ]
  },
  {
   "cell_type": "markdown",
   "id": "da4b72c5-9975-4fd3-b950-ea0b998fae37",
   "metadata": {},
   "source": [
    "Następnie wyznaczamy ważoną znormalizowaną macierz decyzyjną $ V = (v_{ij}) $"
   ]
  },
  {
   "cell_type": "markdown",
   "id": "71e447bd-8bb9-4fc3-97af-67fb135d6d07",
   "metadata": {},
   "source": [
    "$$ v_{ij} = r_{ij} \\cdot w_j $$"
   ]
  },
  {
   "cell_type": "code",
   "execution_count": 38,
   "id": "3ccb96d7-f028-41fc-ad57-5a361d8e78a4",
   "metadata": {},
   "outputs": [
    {
     "data": {
      "text/plain": [
       "array([[-0.69998529,  0.67945231,  0.86125537, ..., -1.39909115,\n",
       "         0.23634832,  0.71684542],\n",
       "       [ 0.7386117 ,  0.9043851 ,  1.10576483, ...,  0.0817222 ,\n",
       "        -0.60861365,  0.38423664],\n",
       "       [-2.35170777,  0.34205311, -1.33932969, ..., -1.87025904,\n",
       "         2.0469811 ,  0.88314981],\n",
       "       ...,\n",
       "       [ 2.07064596,  2.92878027, -0.50799756, ...,  1.96639374,\n",
       "        -2.1174743 , -2.85869895],\n",
       "       [ 1.32470678,  3.15371307, -0.89921268, ...,  0.88943857,\n",
       "        -1.69499332, -2.94185115],\n",
       "       [ 1.00501855,  1.69164989, -1.33932969, ...,  0.21634159,\n",
       "        -1.57428447, -2.60924237]])"
      ]
     },
     "execution_count": 38,
     "metadata": {},
     "output_type": "execute_result"
    }
   ],
   "source": [
    "#numeric_data = data.select_dtypes(include=['float64', 'int64'])  \n",
    "#scaled_numeric_data = scaler.fit_transform(numeric_data)\n",
    "#scaled_numeric_data\n",
    "\n",
    "columns = ['dribbling', 'reactions', 'interceptions', 'vision', 'stamina', 'strength', 'balance', 'sprint_speed', 'agility', 'ball_uncontrol', 'instability']\n",
    "numeric_data = data[columns]\n",
    "scaled_numeric_data = scaler.fit_transform(numeric_data) \n",
    "scaled_numeric_data"
   ]
  },
  {
   "cell_type": "markdown",
   "id": "827343b5-4902-4ab6-8947-1d34f63f479d",
   "metadata": {},
   "source": [
    "height       age  dribbling  reactions  interceptions    vision stamina  strength   balance  sprint_speed   agility  ball_uncontrol instability\n",
    "wagi przypisane z analizy pca \n"
   ]
  },
  {
   "cell_type": "markdown",
   "id": "5964a673-0fa3-4975-9aa2-26a8c2fad5c6",
   "metadata": {},
   "source": [
    "### wagi obliczyłam z tego programu: \n",
    "```python\n",
    "import numpy as np\n",
    "\n",
    "preferences = {\n",
    "    'dribbling': 1,\n",
    "    'reactions': 5,\n",
    "    'interceptions': 5,\n",
    "    'vision': 4,\n",
    "    'stamina': 4,\n",
    "    'strength': 4,\n",
    "    'balance': 3,\n",
    "    'sprint_speed': 3,\n",
    "    'agility': 2,\n",
    "    'ball_uncontrol': 1,\n",
    "    'instability': 5\n",
    "}\n",
    "\n",
    "total_preference = sum(preferences.values())\n",
    "normalized_preferences = {feature: weight/total_preference for feature, weight in preferences.items()}\n",
    "\n",
    "weights = np.array(list(normalized_preferences.values()))\n",
    "\n",
    "print(\"Wagi:\")\n",
    "print(weights)\n",
    "print(\"Suma wag:\", np.sum(weights))\n",
    "```"
   ]
  },
  {
   "cell_type": "code",
   "execution_count": 39,
   "id": "6827abce-1764-4aa2-95fb-86616edaf651",
   "metadata": {},
   "outputs": [],
   "source": [
    "#weights = [0.11428571, 0.11428571, 0.02857143, 0.14285714, 0.02857143, 0.14285714, 0.05714286, 0.14285714, 0.08571429, 0.05714286, 0.02857143, 0.02857143, 0.02857143]\n",
    "weights = [0.02702703, 0.13513514, 0.13513514, 0.10810811, 0.10810811, 0.10810811,\n",
    " 0.08108108, 0.08108108, 0.05405405, -0.02702703, -0.13513514]"
   ]
  },
  {
   "cell_type": "markdown",
   "id": "90b52a77-ed17-457e-8257-7d199af64b6c",
   "metadata": {},
   "source": [
    "Wyznaczamy idealne $A^+ $ i nieidealne $A^-$ rozwiązanie"
   ]
  },
  {
   "cell_type": "markdown",
   "id": "8aba6fa6-0f31-4223-984d-46035fd9d170",
   "metadata": {},
   "source": [
    "$$ A^+ = (v_1^+,v_2^+,\\ldots,v_n^+) = \\{(\\max_i v_{ij}~|~j\\in B)\\}, \\{(\\min_i v_{ij}~|~j\\in C)\\} $$ $$\n",
    "A^- = (v_1^-,v_2^-,\\ldots,v_n^-) = \\{(\\min_i v_{ij}~|~j\\in B)\\}, \\{(\\max_i v_{ij}~|~j\\in C)\\}\n",
    "$$"
   ]
  },
  {
   "cell_type": "code",
   "execution_count": 40,
   "id": "a25682f9-2006-4e04-9ede-efd6c66bf937",
   "metadata": {},
   "outputs": [],
   "source": [
    "ideal_solution = np.max(scaled_numeric_data, axis=0)\n",
    "non_ideal_solution = np.min(scaled_numeric_data, axis=0)"
   ]
  },
  {
   "cell_type": "markdown",
   "id": "763504a1-248c-4ef7-b454-508b133e4245",
   "metadata": {},
   "source": [
    "Obliczamy odległości od idealnego oraz nieidealnego rozwiązania"
   ]
  },
  {
   "cell_type": "markdown",
   "id": "b777d00b-7824-486f-9348-70d1f2d50e4c",
   "metadata": {},
   "source": [
    "odległości każdego wariantu decyzyjnego $A_i$ od rozwiązania\r\n",
    "idealnego$A^+$ $$\n",
    "d_i^+ = \\sqrt{\\sum_{j=1}^n (v_{ij} - v_j^+)^2} $$oraz antyidealnego $A^-$  $$\n",
    "d_i^- = \\sqrt{\\sum_{j=1}^n (v_{ij} - v_j^-)^2}\n",
    "$$"
   ]
  },
  {
   "cell_type": "code",
   "execution_count": 41,
   "id": "b1819514-6019-4993-abae-bdccb086701f",
   "metadata": {},
   "outputs": [],
   "source": [
    "distance_to_ideal = np.sqrt(np.sum((scaled_numeric_data - ideal_solution) ** 2, axis=1))\n",
    "distance_to_non_ideal = np.sqrt(np.sum((scaled_numeric_data - non_ideal_solution) ** 2, axis=1))"
   ]
  },
  {
   "cell_type": "markdown",
   "id": "e4d796f4-0d62-4755-8ea0-05ccb6c09a6d",
   "metadata": {},
   "source": [
    "Obliczenie wyniku TOPSIS"
   ]
  },
  {
   "cell_type": "markdown",
   "id": "e556b4df-efea-4935-9880-14753d84253a",
   "metadata": {},
   "source": [
    "Wyznaczenie współczynnika względnej bliskości wariantów decyzyjnych\r",
    "$A_i$ ௜do rozwiązania idealnego$A^+$\n",
    "$$\n",
    "RC_i = \\frac{d_i^-}{d_i^++d_i^-}\n",
    "$$ା"
   ]
  },
  {
   "cell_type": "markdown",
   "id": "4bb516b7-ae1b-4930-b216-825f8faf329f",
   "metadata": {},
   "source": [
    "Ranking wariantów decyzyjnych względem wartości współczynnika\r\n",
    "względnej bliskości wariantów decyzyjnych do rozwiązania idealnego –$~RC_i$. Im\r\n",
    "wyższa wartość tego współczynnika tym lepszy wariant decyzyjny. Najlepszym wariantem jest ten z najwyższą wartości$~RC_i$. "
   ]
  },
  {
   "cell_type": "code",
   "execution_count": 42,
   "id": "f259f197-0bb7-4dda-8461-b0cfcaed205e",
   "metadata": {},
   "outputs": [],
   "source": [
    "topsis_score = distance_to_non_ideal / (distance_to_ideal + distance_to_non_ideal)"
   ]
  },
  {
   "cell_type": "markdown",
   "id": "b4d9cdb0-4e7d-4948-bafd-04453c2a0974",
   "metadata": {},
   "source": [
    "Dodanie kolumny z wynikiem TOPSIS do danych i sortowanie"
   ]
  },
  {
   "cell_type": "code",
   "execution_count": 43,
   "id": "bd60c848-9574-4842-ac13-fa661d07c066",
   "metadata": {},
   "outputs": [
    {
     "name": "stdout",
     "output_type": "stream",
     "text": [
      "                     player  country  height  age               club  \\\n",
      "3970         Mubarak Wakaso    Ghana     171   33         KAS Eupen    \n",
      "1374         Luis Advíncula     Peru     180   33      Boca Juniors    \n",
      "2710                  Anuar  Morocco     174   28  R. Valladolid CF    \n",
      "606            Adryan Zonta   Brazil     172   31            Brazil    \n",
      "5183         Jonas Svensson   Norway     170   30   Adana Demirspor    \n",
      "...                     ...      ...     ...  ...                ...   \n",
      "4398      Lucas Zahaczewski  Germany     186   22    SpVgg Bayreuth    \n",
      "785     Jeppe Ørris Nielsen  Denmark     188   19        Randers FC    \n",
      "2920        Paul Tschernuth  Austria     186   21        Heidenheim    \n",
      "2676  Quentin Galvez-Diarra   France     188   21            Pau FC    \n",
      "850           Edoardo Sarri    Italy     187   24              Bari    \n",
      "\n",
      "      dribbling  reactions  interceptions  vision  stamina  strength  balance  \\\n",
      "3970         68         78             71      71       85        81       88   \n",
      "1374         74         70             71      65       88        79       80   \n",
      "2710         71         75             74      69       89        59       85   \n",
      "606          77         82             74      64       91        73       78   \n",
      "5183         73         78             74      71       91        77       93   \n",
      "...         ...        ...            ...     ...      ...       ...      ...   \n",
      "4398         12         46             12      31       16        36       33   \n",
      "785          10         35              7      36       26        42       34   \n",
      "2920         12         41              7      21       24        41       38   \n",
      "2676         10         41             10      29       24        37       34   \n",
      "850           7         37             14      35       16        46       32   \n",
      "\n",
      "      sprint_speed  agility  ball_uncontrol  instability  TOPSIS Score  \n",
      "3970            82       82              29           30      0.653543  \n",
      "1374            88       82              28           40      0.652976  \n",
      "2710            78       84              31           42      0.648302  \n",
      "606             93       81              28           26      0.644183  \n",
      "5183            83       77              26           25      0.643455  \n",
      "...            ...      ...             ...          ...           ...  \n",
      "4398            28       30              81           62      0.342322  \n",
      "785             30       28              80           63      0.342049  \n",
      "2920            17       22              80           70      0.342024  \n",
      "2676            16       37              82           64      0.339831  \n",
      "850             24       21              81           61      0.332991  \n",
      "\n",
      "[5679 rows x 17 columns]\n"
     ]
    }
   ],
   "source": [
    "data['TOPSIS Score'] = topsis_score\n",
    "sorted_data = data.sort_values(by='TOPSIS Score', ascending=False)\n",
    "print(sorted_data)\n",
    "sorted_data.to_excel(\"posortowane_wedlug_topsis.xlsx\", index=False)"
   ]
  },
  {
   "cell_type": "markdown",
   "id": "0f185aab-614e-4f2c-8fc3-3b9ace181b87",
   "metadata": {},
   "source": [
    "dodać wykresy (2-3) z tego rankingu"
   ]
  },
  {
   "cell_type": "markdown",
   "id": "d91d0a21-72e0-4bf6-8d64-eccf82257245",
   "metadata": {},
   "source": [
    "# metoda SSW"
   ]
  },
  {
   "cell_type": "code",
   "execution_count": 44,
   "id": "0412692c-fb5c-41fc-ade1-3731c183b526",
   "metadata": {},
   "outputs": [
    {
     "name": "stdout",
     "output_type": "stream",
     "text": [
      "                     player      country  height  age                club  \\\n",
      "3535                  Pedri        Spain     174   20       FC Barcelona    \n",
      "5677          Mohamed Salah        Egypt     175   31           Liverpool   \n",
      "3863      Federico Valverde      Uruguay     182   25        Real Madrid    \n",
      "5136         Joshua Kimmich      Germany     177   28  FC Bayern München    \n",
      "2327  Franck Yannick Kessié  Ivory Coast     183   26       FC Barcelona    \n",
      "...                     ...          ...     ...  ...                 ...   \n",
      "2920        Paul Tschernuth      Austria     186   21         Heidenheim    \n",
      "3957   Ghjuvanni Quilichini       France     185   21         AC Ajaccio    \n",
      "1025        Benjamin Leneis      Germany     195   24        FC Augsburg    \n",
      "293         Harry Griffiths      England     187   18      AFC Wimbledon    \n",
      "4799         Alexandru Utiu      Romania     192   20    FC Hermannstadt    \n",
      "\n",
      "      dribbling  reactions  interceptions  vision  stamina  strength  balance  \\\n",
      "3535         87         85             72      88       88        73       90   \n",
      "5677         88         92             55      84       87        76       91   \n",
      "3863         81         87             81      83       89        80       68   \n",
      "5136         82         88             85      85       94        68       84   \n",
      "2327         78         81             84      76       93        86       77   \n",
      "...         ...        ...            ...     ...      ...       ...      ...   \n",
      "2920         12         41              7      21       24        41       38   \n",
      "3957          7         39             13      24       25        30       43   \n",
      "1025         13         54              3      26       18        38       28   \n",
      "293          10         36              8      23       16        54       34   \n",
      "4799         14         33              7      24       19        31       44   \n",
      "\n",
      "      sprint_speed  agility  ball_uncontrol  instability  TOPSIS Score  \\\n",
      "3535            76       88              12           13      0.627913   \n",
      "5677            89       89              14           10      0.633379   \n",
      "3863            91       77              15           18      0.635887   \n",
      "5136            60       84              15           15      0.619524   \n",
      "2327            79       70              16           16      0.621336   \n",
      "...            ...      ...             ...          ...           ...   \n",
      "2920            17       22              80           70      0.342024   \n",
      "3957            20       23              88           72      0.352899   \n",
      "1025            24       34              83           80      0.383601   \n",
      "293             15       25              89           72      0.357357   \n",
      "4799            22       35              84           71      0.346447   \n",
      "\n",
      "            ssw  \n",
      "3535  66.621622  \n",
      "5677  66.621622  \n",
      "3863  66.351352  \n",
      "5136  66.081082  \n",
      "2327  65.810812  \n",
      "...         ...  \n",
      "2920  10.135135  \n",
      "3957  10.000000  \n",
      "1025   9.918919  \n",
      "293    9.459459  \n",
      "4799   9.162162  \n",
      "\n",
      "[5679 rows x 18 columns]\n"
     ]
    }
   ],
   "source": [
    "features = ['dribbling', 'reactions', 'interceptions', 'vision', 'stamina', \n",
    "            'strength', 'balance', 'sprint_speed', 'agility', 'ball_uncontrol', 'instability']\n",
    "weights = dict(zip(features, weights))\n",
    "data['ssw'] = numeric_data.apply(lambda row: sum(row[feature] * weight for feature, weight in weights.items()), axis=1)\n",
    "ranked_players = data.sort_values(by='ssw', ascending=False)\n",
    "print(ranked_players)\n",
    "ranked_players.to_excel(\"posortowane_wedlug_ssw.xlsx\", index=False)"
   ]
  },
  {
   "cell_type": "markdown",
   "id": "85fde58b-7a72-4b9c-8e67-7ddf5f09cbbc",
   "metadata": {},
   "source": [
    "tez dodać wykresy"
   ]
  },
  {
   "cell_type": "markdown",
   "id": "b5ec044b-ee5b-4017-a468-da7e39a77be1",
   "metadata": {},
   "source": [
    "# Metoda regresji liniowej"
   ]
  },
  {
   "cell_type": "code",
   "execution_count": 45,
   "id": "a979963a-5734-48ca-91fd-2c074144a123",
   "metadata": {},
   "outputs": [
    {
     "name": "stdout",
     "output_type": "stream",
     "text": [
      "                    player        country  height  age              club  \\\n",
      "5677         Mohamed Salah          Egypt     175   31         Liverpool   \n",
      "5229         Kylian Mbappé         France     182   24         Paris SG    \n",
      "5675         Kylian Mbapp�         France     182   24          Paris SG   \n",
      "3555          Lionel Messi      Argentina     169   36         Paris SG    \n",
      "4849       Kevin De Bruyne        Belgium     181   32  Manchester City    \n",
      "...                    ...            ...     ...  ...               ...   \n",
      "293        Harry Griffiths        England     187   18    AFC Wimbledon    \n",
      "4156        Emmanuel Ochoa  United States     188   18   SJ Earthquakes    \n",
      "2920       Paul Tschernuth        Austria     186   21       Heidenheim    \n",
      "3957  Ghjuvanni Quilichini         France     185   21       AC Ajaccio    \n",
      "4799        Alexandru Utiu        Romania     192   20  FC Hermannstadt    \n",
      "\n",
      "      dribbling  reactions  interceptions  vision  stamina  strength  balance  \\\n",
      "5677         88         92             55      84       87        76       91   \n",
      "5229         93         93             38      83       87        76       81   \n",
      "5675         93         93             38      83       87        76       81   \n",
      "3555         95         92             40      94       70        68       95   \n",
      "4849         86         91             65      94       89        74       78   \n",
      "...         ...        ...            ...     ...      ...       ...      ...   \n",
      "293          10         36              8      23       16        54       34   \n",
      "4156          7         33             12      31       23        40       38   \n",
      "2920         12         41              7      21       24        41       38   \n",
      "3957          7         39             13      24       25        30       43   \n",
      "4799         14         33              7      24       19        31       44   \n",
      "\n",
      "      sprint_speed  agility  ball_uncontrol  instability  TOPSIS Score  \\\n",
      "5677            89       89              14           10      0.633379   \n",
      "5229            97       93               9           12      0.626516   \n",
      "5675            97       93               9           12      0.626516   \n",
      "3555            76       91               7            4      0.599528   \n",
      "4849            73       76              10           12      0.617985   \n",
      "...            ...      ...             ...          ...           ...   \n",
      "293             15       25              89           72      0.357357   \n",
      "4156            32       26              86           74      0.363697   \n",
      "2920            17       22              80           70      0.342024   \n",
      "3957            20       23              88           72      0.352899   \n",
      "4799            22       35              84           71      0.346447   \n",
      "\n",
      "            ssw  regresja liniowa  \n",
      "5677  66.621622          1.473470  \n",
      "5229  64.405406          1.445637  \n",
      "5675  64.405406          1.445637  \n",
      "3555  63.540541          1.421237  \n",
      "4849  65.648650          1.396797  \n",
      "...         ...               ...  \n",
      "293    9.459459         -1.764015  \n",
      "4156  11.189189         -1.771104  \n",
      "2920  10.135135         -1.775874  \n",
      "3957  10.000000         -1.872596  \n",
      "4799   9.162162         -1.930870  \n",
      "\n",
      "[5679 rows x 19 columns]\n"
     ]
    }
   ],
   "source": [
    "columns = ['dribbling', 'reactions', 'interceptions', 'vision', 'stamina', 'strength', 'balance', 'sprint_speed', 'agility', 'ball_uncontrol', 'instability']\n",
    "# nie uwzględniając wysokości i wieku (trzeba zmienić weigths):\n",
    "# columns = ['dribbling', 'reactions', 'interceptions', 'vision', 'stamina', 'strength', 'balance', 'sprint_speed', 'agility', 'ball_uncontrol', 'instability']\n",
    "X = data[columns]\n",
    "\n",
    "scaler = StandardScaler()\n",
    "X_scaled = scaler.fit_transform(X)\n",
    "\n",
    "weights = [0.02857143, 0.14285714, 0.02857143, 0.14285714, 0.05714286, 0.14285714, 0.08571429, 0.05714286, 0.02857143, -0.02857143, -0.02857143]\n",
    "data['regresja liniowa'] = (X_scaled * weights).sum(axis=1)\n",
    "\n",
    "data_sorted = data.sort_values(by='regresja liniowa', ascending=False)\n",
    "\n",
    "print(data_sorted)"
   ]
  },
  {
   "cell_type": "code",
   "execution_count": null,
   "id": "6e83ec02-8cd5-4277-bb04-364b97affd50",
   "metadata": {},
   "outputs": [],
   "source": []
  }
 ],
 "metadata": {
  "kernelspec": {
   "display_name": "Python 3 (ipykernel)",
   "language": "python",
   "name": "python3"
  },
  "language_info": {
   "codemirror_mode": {
    "name": "ipython",
    "version": 3
   },
   "file_extension": ".py",
   "mimetype": "text/x-python",
   "name": "python",
   "nbconvert_exporter": "python",
   "pygments_lexer": "ipython3",
   "version": "3.11.7"
  }
 },
 "nbformat": 4,
 "nbformat_minor": 5
}
