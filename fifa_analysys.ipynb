{
 "cells": [
  {
   "cell_type": "markdown",
   "id": "fd2d2b06-f2fa-44ac-bc63-f68383d74311",
   "metadata": {},
   "source": [
    "# Analiza piłkarzy na podstawie danych z gry FIFA 24"
   ]
  },
  {
   "cell_type": "markdown",
   "id": "4b4e6b7a-8526-4f9d-afaa-34537747c66b",
   "metadata": {},
   "source": [
    "## Autorzy projektu\n",
    "- Oktawian Kausz (*217601*)\n",
    "- Izabela Kołodziejska (*217260*)\n",
    "- Piotr Kula (*217302*)\n",
    "- Kamil Marszałek (*217241*)"
   ]
  },
  {
   "cell_type": "markdown",
   "id": "2a95c01d-6ae2-4497-814a-95675a5128f8",
   "metadata": {},
   "source": [
    "## Streszczenie\n",
    "Poznanymi metodami statystycznymi uporządkowaliśmy piłkarzy występujących w grze **FIFA 24**. Dane pozyskaliśmy z dostępnej bazy danych w serwisie [Kaggle](https://www.kaggle.com/datasets/rehandl23/fifa-24-player-stats-dataset?resource=download) udostępnionych na licencji Apache 2.0. W celu przeanalizowania dostępnych danych skorzystaliśmy z takich metod jak <u>TOPSIS</u>, <u>SSW</u> oraz <u>regresji liniowej</u> co umożliwiło nam dojście do później opisanych wniosków."
   ]
  },
  {
   "cell_type": "markdown",
   "id": "c3ff1f2e-83b7-4953-967a-54b87ec5ee54",
   "metadata": {},
   "source": [
    "## Słowa kluczowe\n",
    "- **TOPSIS** - metoda wielokryterialnej analizy decyzyjnej, która służy do wyboru najlepszego wariantu spośród zestawu alternatyw\n",
    "- **SSW** - oznacza \"Sum of Squares Within\" (Suma Kwadratów Wewnątrzgrupowych), jest jednym z komponentów analizy wariancji (ANOVA), która służy do analizy różnic między średnimi kilku grup danych\n",
    "- **Regresja liniowa** - technika statystyczna wykorzystywana do modelowania związku między jedną lub więcej zmiennymi niezależnymi (zwanych również predyktorami) a zmienną zależną za pomocą prostej funkcji liniowej"
   ]
  },
  {
   "cell_type": "markdown",
   "id": "1f3dc30b-b49f-4c9a-9b43-9bcf97abfbd8",
   "metadata": {},
   "source": [
    "## Wprowadzenie"
   ]
  },
  {
   "cell_type": "markdown",
   "id": "a84bb244-e779-43fa-aaab-54c560f50f26",
   "metadata": {},
   "source": [
    "W świecie sportu analiza danych staje się coraz bardziej powszechną praktyką, która pozwalaja zarówno zawodnikom, jak i zespołom trenerskim na podejmowanie bardziej świadomych decyzji. W ramach niniejszego badania, skupiliśmy się na analizie piłkarzy występujących w grze FIFA 24."
   ]
  },
  {
   "cell_type": "markdown",
   "id": "e195f4fc-b7cc-49fc-af1a-f6ba19a50d76",
   "metadata": {},
   "source": [
    "### Przedmiot badania\n",
    "Przedmiotem badania są piłkarze z całego świata, którzy występują w grze FIFA 24.\n"
   ]
  },
  {
   "cell_type": "markdown",
   "id": "186d21c6-80d2-491f-b584-4bb28b8d8333",
   "metadata": {},
   "source": [
    "### Cel i zakres badania \n",
    "Celem naszego badania jest porównanie piłkarzy z różnych krajów oraz klubów. Postawiliśmy sobie za cel uporządkowanie ich od najlepszego do najgorszego stosując trzy metody statystyczne.\n"
   ]
  },
  {
   "cell_type": "markdown",
   "id": "9d0f077c-7a70-41ef-8c6d-3ebe9f739cb9",
   "metadata": {},
   "source": [
    "### Zmienne wybrane do analizy\n",
    "\n",
    "Z dostępnych danych zostały wybrane jedynie te, które zostały uznane za znaczące a niektóre z nich, takie jak *ball_uncontrol* powstały z ich odpowiadających cech w celu uzyskania destymulanty.\n",
    "\n",
    "Opis danych występujących w bazie:\n",
    "- **player** - imię oraz nazwisko piłkarza\n",
    "- **country** - narodowość lub kraj pochodzenia piłkarza\n",
    "- **height** - wzrost piłkarza w centymetrach\n",
    "- **age** - wiek piłkarza\n",
    "- **club** - klub w którym piłkarz aktualnie gra\n",
    "- **dribbling** - umiejętności piłkarza w drybblingu\n",
    "- **reactions** - czas reakcji piłkarza\n",
    "- **interceptions** - umiejętność piłkarza w przechwytywaniu podań\n",
    "- **vision** - zdolność przeglądu pola gry piłkarza na boisku\n",
    "- **stamina** - poziom wytrzymałości piłkarza\n",
    "- **strength** - poziom siły piłkarza\n",
    "- **balance** - balans piłkarza podczas gry\n",
    "- **sprint_speed** - prędkość piłkarza podczas sprintów\n",
    "- **agility** - poziom zwinności piłkarza\n",
    "- **ball_uncontrol** - poziom braku kontroli nad piłką piłkarza\n",
    "- **instability** - poziom niestabilności podczas gry\n",
    "\n",
    "Za stymulante służą następujące dane: *dribbling*, *reactions*, *interceptions*, *vision*, *stamina*, *strength*, *balance*, *sprint_speed* oraz *agility*. Destymulantą jest z kolei *ball_uncontrol* oraz *instability*."
   ]
  },
  {
   "cell_type": "markdown",
   "id": "ee4e0bc2-3fe6-4e69-beec-e5cb131c757b",
   "metadata": {},
   "source": [
    "## Import odpowiednich bibliotek oraz przegląd danych"
   ]
  },
  {
   "cell_type": "code",
   "execution_count": 132,
   "id": "17125df9-9555-4f96-b62a-c2f51c739cca",
   "metadata": {},
   "outputs": [],
   "source": [
    "import pandas as pd\n",
    "import seaborn as sns\n",
    "import matplotlib.pyplot as plt\n",
    "import numpy as np\n",
    "import plotly.express as px\n",
    "\n",
    "from plotly.offline import iplot, plot\n",
    "from sklearn.preprocessing import MinMaxScaler, StandardScaler, LabelEncoder\n",
    "from sklearn.decomposition import PCA\n",
    "from sklearn.preprocessing import StandardScaler\n",
    "seed = 2024"
   ]
  },
  {
   "cell_type": "code",
   "execution_count": 133,
   "id": "713e17d9-a88c-4af3-9102-c40637fa7631",
   "metadata": {},
   "outputs": [
    {
     "data": {
      "text/html": [
       "<div>\n",
       "<style scoped>\n",
       "    .dataframe tbody tr th:only-of-type {\n",
       "        vertical-align: middle;\n",
       "    }\n",
       "\n",
       "    .dataframe tbody tr th {\n",
       "        vertical-align: top;\n",
       "    }\n",
       "\n",
       "    .dataframe thead th {\n",
       "        text-align: right;\n",
       "    }\n",
       "</style>\n",
       "<table border=\"1\" class=\"dataframe\">\n",
       "  <thead>\n",
       "    <tr style=\"text-align: right;\">\n",
       "      <th></th>\n",
       "      <th>player</th>\n",
       "      <th>country</th>\n",
       "      <th>height</th>\n",
       "      <th>age</th>\n",
       "      <th>club</th>\n",
       "      <th>dribbling</th>\n",
       "      <th>reactions</th>\n",
       "      <th>interceptions</th>\n",
       "      <th>vision</th>\n",
       "      <th>stamina</th>\n",
       "      <th>strength</th>\n",
       "      <th>balance</th>\n",
       "      <th>sprint_speed</th>\n",
       "      <th>agility</th>\n",
       "      <th>ball_uncontrol</th>\n",
       "      <th>instability</th>\n",
       "    </tr>\n",
       "  </thead>\n",
       "  <tbody>\n",
       "    <tr>\n",
       "      <th>0</th>\n",
       "      <td>Cristian Castro Devenish</td>\n",
       "      <td>Colombia</td>\n",
       "      <td>192</td>\n",
       "      <td>22</td>\n",
       "      <td>Atl. Nacional</td>\n",
       "      <td>43</td>\n",
       "      <td>68</td>\n",
       "      <td>65</td>\n",
       "      <td>30</td>\n",
       "      <td>55</td>\n",
       "      <td>86</td>\n",
       "      <td>40</td>\n",
       "      <td>52</td>\n",
       "      <td>43</td>\n",
       "      <td>45</td>\n",
       "      <td>50</td>\n",
       "    </tr>\n",
       "    <tr>\n",
       "      <th>1</th>\n",
       "      <td>Silaldo Taffarel</td>\n",
       "      <td>Brazil</td>\n",
       "      <td>181</td>\n",
       "      <td>31</td>\n",
       "      <td>Corinthians</td>\n",
       "      <td>70</td>\n",
       "      <td>70</td>\n",
       "      <td>70</td>\n",
       "      <td>64</td>\n",
       "      <td>87</td>\n",
       "      <td>81</td>\n",
       "      <td>42</td>\n",
       "      <td>67</td>\n",
       "      <td>65</td>\n",
       "      <td>31</td>\n",
       "      <td>46</td>\n",
       "    </tr>\n",
       "    <tr>\n",
       "      <th>2</th>\n",
       "      <td>Thomas Dähne</td>\n",
       "      <td>Germany</td>\n",
       "      <td>193</td>\n",
       "      <td>29</td>\n",
       "      <td>Holstein Kiel</td>\n",
       "      <td>12</td>\n",
       "      <td>65</td>\n",
       "      <td>20</td>\n",
       "      <td>49</td>\n",
       "      <td>38</td>\n",
       "      <td>68</td>\n",
       "      <td>41</td>\n",
       "      <td>48</td>\n",
       "      <td>36</td>\n",
       "      <td>75</td>\n",
       "      <td>52</td>\n",
       "    </tr>\n",
       "    <tr>\n",
       "      <th>3</th>\n",
       "      <td>Michael Sollbauer</td>\n",
       "      <td>Austria</td>\n",
       "      <td>187</td>\n",
       "      <td>33</td>\n",
       "      <td>SK Rapid Wien</td>\n",
       "      <td>48</td>\n",
       "      <td>64</td>\n",
       "      <td>66</td>\n",
       "      <td>29</td>\n",
       "      <td>73</td>\n",
       "      <td>82</td>\n",
       "      <td>56</td>\n",
       "      <td>63</td>\n",
       "      <td>57</td>\n",
       "      <td>54</td>\n",
       "      <td>30</td>\n",
       "    </tr>\n",
       "    <tr>\n",
       "      <th>4</th>\n",
       "      <td>Diego Segovia</td>\n",
       "      <td>Uruguay</td>\n",
       "      <td>191</td>\n",
       "      <td>23</td>\n",
       "      <td>Independiente</td>\n",
       "      <td>8</td>\n",
       "      <td>50</td>\n",
       "      <td>12</td>\n",
       "      <td>38</td>\n",
       "      <td>28</td>\n",
       "      <td>64</td>\n",
       "      <td>24</td>\n",
       "      <td>31</td>\n",
       "      <td>34</td>\n",
       "      <td>86</td>\n",
       "      <td>66</td>\n",
       "    </tr>\n",
       "  </tbody>\n",
       "</table>\n",
       "</div>"
      ],
      "text/plain": [
       "                     player   country  height  age            club  dribbling  \\\n",
       "0  Cristian Castro Devenish  Colombia     192   22  Atl. Nacional          43   \n",
       "1          Silaldo Taffarel    Brazil     181   31    Corinthians          70   \n",
       "2              Thomas Dähne   Germany     193   29  Holstein Kiel          12   \n",
       "3         Michael Sollbauer   Austria     187   33  SK Rapid Wien          48   \n",
       "4             Diego Segovia   Uruguay     191   23  Independiente           8   \n",
       "\n",
       "   reactions  interceptions  vision  stamina  strength  balance  sprint_speed  \\\n",
       "0         68             65      30       55        86       40            52   \n",
       "1         70             70      64       87        81       42            67   \n",
       "2         65             20      49       38        68       41            48   \n",
       "3         64             66      29       73        82       56            63   \n",
       "4         50             12      38       28        64       24            31   \n",
       "\n",
       "   agility  ball_uncontrol  instability  \n",
       "0       43              45           50  \n",
       "1       65              31           46  \n",
       "2       36              75           52  \n",
       "3       57              54           30  \n",
       "4       34              86           66  "
      ]
     },
     "execution_count": 133,
     "metadata": {},
     "output_type": "execute_result"
    }
   ],
   "source": [
    "data = pd.read_excel('FIFA_MAD_dane.xlsx')\n",
    "data.head()"
   ]
  },
  {
   "cell_type": "code",
   "execution_count": 134,
   "id": "47f55952-17bb-4acb-b428-9b0579870fdf",
   "metadata": {},
   "outputs": [
    {
     "data": {
      "text/html": [
       "<div>\n",
       "<style scoped>\n",
       "    .dataframe tbody tr th:only-of-type {\n",
       "        vertical-align: middle;\n",
       "    }\n",
       "\n",
       "    .dataframe tbody tr th {\n",
       "        vertical-align: top;\n",
       "    }\n",
       "\n",
       "    .dataframe thead th {\n",
       "        text-align: right;\n",
       "    }\n",
       "</style>\n",
       "<table border=\"1\" class=\"dataframe\">\n",
       "  <thead>\n",
       "    <tr style=\"text-align: right;\">\n",
       "      <th></th>\n",
       "      <th>height</th>\n",
       "      <th>age</th>\n",
       "      <th>dribbling</th>\n",
       "      <th>reactions</th>\n",
       "      <th>interceptions</th>\n",
       "      <th>vision</th>\n",
       "      <th>stamina</th>\n",
       "      <th>strength</th>\n",
       "      <th>balance</th>\n",
       "      <th>sprint_speed</th>\n",
       "      <th>agility</th>\n",
       "      <th>ball_uncontrol</th>\n",
       "      <th>instability</th>\n",
       "    </tr>\n",
       "  </thead>\n",
       "  <tbody>\n",
       "    <tr>\n",
       "      <th>count</th>\n",
       "      <td>5681.000000</td>\n",
       "      <td>5681.000000</td>\n",
       "      <td>5681.000000</td>\n",
       "      <td>5681.000000</td>\n",
       "      <td>5681.000000</td>\n",
       "      <td>5681.000000</td>\n",
       "      <td>5681.000000</td>\n",
       "      <td>5681.000000</td>\n",
       "      <td>5681.000000</td>\n",
       "      <td>5681.000000</td>\n",
       "      <td>5681.000000</td>\n",
       "      <td>5681.000000</td>\n",
       "      <td>5681.000000</td>\n",
       "    </tr>\n",
       "    <tr>\n",
       "      <th>mean</th>\n",
       "      <td>181.670481</td>\n",
       "      <td>26.316670</td>\n",
       "      <td>56.121986</td>\n",
       "      <td>61.953881</td>\n",
       "      <td>47.390776</td>\n",
       "      <td>54.460658</td>\n",
       "      <td>63.373174</td>\n",
       "      <td>65.379335</td>\n",
       "      <td>64.067418</td>\n",
       "      <td>64.953353</td>\n",
       "      <td>63.775392</td>\n",
       "      <td>41.093469</td>\n",
       "      <td>41.384263</td>\n",
       "    </tr>\n",
       "    <tr>\n",
       "      <th>std</th>\n",
       "      <td>6.829837</td>\n",
       "      <td>4.730284</td>\n",
       "      <td>18.767351</td>\n",
       "      <td>8.884548</td>\n",
       "      <td>20.452747</td>\n",
       "      <td>13.701261</td>\n",
       "      <td>16.104265</td>\n",
       "      <td>12.624378</td>\n",
       "      <td>14.494980</td>\n",
       "      <td>15.109394</td>\n",
       "      <td>14.854123</td>\n",
       "      <td>16.563054</td>\n",
       "      <td>12.018839</td>\n",
       "    </tr>\n",
       "    <tr>\n",
       "      <th>min</th>\n",
       "      <td>156.000000</td>\n",
       "      <td>17.000000</td>\n",
       "      <td>5.000000</td>\n",
       "      <td>32.000000</td>\n",
       "      <td>3.000000</td>\n",
       "      <td>10.000000</td>\n",
       "      <td>14.000000</td>\n",
       "      <td>25.000000</td>\n",
       "      <td>20.000000</td>\n",
       "      <td>13.000000</td>\n",
       "      <td>21.000000</td>\n",
       "      <td>6.000000</td>\n",
       "      <td>4.000000</td>\n",
       "    </tr>\n",
       "    <tr>\n",
       "      <th>25%</th>\n",
       "      <td>177.000000</td>\n",
       "      <td>23.000000</td>\n",
       "      <td>51.000000</td>\n",
       "      <td>56.000000</td>\n",
       "      <td>28.000000</td>\n",
       "      <td>45.000000</td>\n",
       "      <td>56.000000</td>\n",
       "      <td>58.000000</td>\n",
       "      <td>56.000000</td>\n",
       "      <td>57.000000</td>\n",
       "      <td>56.000000</td>\n",
       "      <td>31.000000</td>\n",
       "      <td>33.000000</td>\n",
       "    </tr>\n",
       "    <tr>\n",
       "      <th>50%</th>\n",
       "      <td>182.000000</td>\n",
       "      <td>26.000000</td>\n",
       "      <td>62.000000</td>\n",
       "      <td>62.000000</td>\n",
       "      <td>54.000000</td>\n",
       "      <td>56.000000</td>\n",
       "      <td>66.000000</td>\n",
       "      <td>66.000000</td>\n",
       "      <td>66.000000</td>\n",
       "      <td>68.000000</td>\n",
       "      <td>66.000000</td>\n",
       "      <td>37.000000</td>\n",
       "      <td>40.000000</td>\n",
       "    </tr>\n",
       "    <tr>\n",
       "      <th>75%</th>\n",
       "      <td>186.000000</td>\n",
       "      <td>30.000000</td>\n",
       "      <td>68.000000</td>\n",
       "      <td>68.000000</td>\n",
       "      <td>64.000000</td>\n",
       "      <td>65.000000</td>\n",
       "      <td>74.000000</td>\n",
       "      <td>74.000000</td>\n",
       "      <td>74.000000</td>\n",
       "      <td>75.000000</td>\n",
       "      <td>74.000000</td>\n",
       "      <td>45.000000</td>\n",
       "      <td>48.000000</td>\n",
       "    </tr>\n",
       "    <tr>\n",
       "      <th>max</th>\n",
       "      <td>204.000000</td>\n",
       "      <td>41.000000</td>\n",
       "      <td>95.000000</td>\n",
       "      <td>93.000000</td>\n",
       "      <td>89.000000</td>\n",
       "      <td>94.000000</td>\n",
       "      <td>95.000000</td>\n",
       "      <td>96.000000</td>\n",
       "      <td>95.000000</td>\n",
       "      <td>97.000000</td>\n",
       "      <td>93.000000</td>\n",
       "      <td>92.000000</td>\n",
       "      <td>87.000000</td>\n",
       "    </tr>\n",
       "  </tbody>\n",
       "</table>\n",
       "</div>"
      ],
      "text/plain": [
       "            height          age    dribbling    reactions  interceptions  \\\n",
       "count  5681.000000  5681.000000  5681.000000  5681.000000    5681.000000   \n",
       "mean    181.670481    26.316670    56.121986    61.953881      47.390776   \n",
       "std       6.829837     4.730284    18.767351     8.884548      20.452747   \n",
       "min     156.000000    17.000000     5.000000    32.000000       3.000000   \n",
       "25%     177.000000    23.000000    51.000000    56.000000      28.000000   \n",
       "50%     182.000000    26.000000    62.000000    62.000000      54.000000   \n",
       "75%     186.000000    30.000000    68.000000    68.000000      64.000000   \n",
       "max     204.000000    41.000000    95.000000    93.000000      89.000000   \n",
       "\n",
       "            vision      stamina     strength      balance  sprint_speed  \\\n",
       "count  5681.000000  5681.000000  5681.000000  5681.000000   5681.000000   \n",
       "mean     54.460658    63.373174    65.379335    64.067418     64.953353   \n",
       "std      13.701261    16.104265    12.624378    14.494980     15.109394   \n",
       "min      10.000000    14.000000    25.000000    20.000000     13.000000   \n",
       "25%      45.000000    56.000000    58.000000    56.000000     57.000000   \n",
       "50%      56.000000    66.000000    66.000000    66.000000     68.000000   \n",
       "75%      65.000000    74.000000    74.000000    74.000000     75.000000   \n",
       "max      94.000000    95.000000    96.000000    95.000000     97.000000   \n",
       "\n",
       "           agility  ball_uncontrol  instability  \n",
       "count  5681.000000     5681.000000  5681.000000  \n",
       "mean     63.775392       41.093469    41.384263  \n",
       "std      14.854123       16.563054    12.018839  \n",
       "min      21.000000        6.000000     4.000000  \n",
       "25%      56.000000       31.000000    33.000000  \n",
       "50%      66.000000       37.000000    40.000000  \n",
       "75%      74.000000       45.000000    48.000000  \n",
       "max      93.000000       92.000000    87.000000  "
      ]
     },
     "execution_count": 134,
     "metadata": {},
     "output_type": "execute_result"
    }
   ],
   "source": [
    "data.describe()"
   ]
  },
  {
   "cell_type": "markdown",
   "id": "ff61f993-20b0-461d-ab0c-995eb9c79622",
   "metadata": {},
   "source": [
    "### Wstępna analiza danych"
   ]
  },
  {
   "cell_type": "code",
   "execution_count": 135,
   "id": "8293646e-72a6-4c44-9130-87586f1b1fd6",
   "metadata": {},
   "outputs": [
    {
     "data": {
      "text/html": [
       "<div>\n",
       "<style scoped>\n",
       "    .dataframe tbody tr th:only-of-type {\n",
       "        vertical-align: middle;\n",
       "    }\n",
       "\n",
       "    .dataframe tbody tr th {\n",
       "        vertical-align: top;\n",
       "    }\n",
       "\n",
       "    .dataframe thead th {\n",
       "        text-align: right;\n",
       "    }\n",
       "</style>\n",
       "<table border=\"1\" class=\"dataframe\">\n",
       "  <thead>\n",
       "    <tr style=\"text-align: right;\">\n",
       "      <th></th>\n",
       "      <th></th>\n",
       "      <th>dribbling</th>\n",
       "      <th>reactions</th>\n",
       "      <th>interceptions</th>\n",
       "      <th>vision</th>\n",
       "      <th>stamina</th>\n",
       "      <th>strength</th>\n",
       "      <th>balance</th>\n",
       "      <th>sprint_speed</th>\n",
       "      <th>agility</th>\n",
       "      <th>ball_uncontrol</th>\n",
       "      <th>instability</th>\n",
       "    </tr>\n",
       "  </thead>\n",
       "  <tbody>\n",
       "    <tr>\n",
       "      <th>0</th>\n",
       "      <td>Średnia</td>\n",
       "      <td>56.12</td>\n",
       "      <td>61.95</td>\n",
       "      <td>47.39</td>\n",
       "      <td>54.46</td>\n",
       "      <td>63.37</td>\n",
       "      <td>65.38</td>\n",
       "      <td>64.07</td>\n",
       "      <td>64.95</td>\n",
       "      <td>63.78</td>\n",
       "      <td>41.09</td>\n",
       "      <td>41.38</td>\n",
       "    </tr>\n",
       "    <tr>\n",
       "      <th>1</th>\n",
       "      <td>Odchylenie standardowe</td>\n",
       "      <td>18.77</td>\n",
       "      <td>8.88</td>\n",
       "      <td>20.45</td>\n",
       "      <td>13.70</td>\n",
       "      <td>16.10</td>\n",
       "      <td>12.62</td>\n",
       "      <td>14.49</td>\n",
       "      <td>15.11</td>\n",
       "      <td>14.85</td>\n",
       "      <td>16.56</td>\n",
       "      <td>12.02</td>\n",
       "    </tr>\n",
       "    <tr>\n",
       "      <th>2</th>\n",
       "      <td>Mediana</td>\n",
       "      <td>62.00</td>\n",
       "      <td>62.00</td>\n",
       "      <td>54.00</td>\n",
       "      <td>56.00</td>\n",
       "      <td>66.00</td>\n",
       "      <td>66.00</td>\n",
       "      <td>66.00</td>\n",
       "      <td>68.00</td>\n",
       "      <td>66.00</td>\n",
       "      <td>37.00</td>\n",
       "      <td>40.00</td>\n",
       "    </tr>\n",
       "    <tr>\n",
       "      <th>3</th>\n",
       "      <td>Kwartyl 25%</td>\n",
       "      <td>51.00</td>\n",
       "      <td>56.00</td>\n",
       "      <td>28.00</td>\n",
       "      <td>45.00</td>\n",
       "      <td>56.00</td>\n",
       "      <td>58.00</td>\n",
       "      <td>56.00</td>\n",
       "      <td>57.00</td>\n",
       "      <td>56.00</td>\n",
       "      <td>31.00</td>\n",
       "      <td>33.00</td>\n",
       "    </tr>\n",
       "    <tr>\n",
       "      <th>4</th>\n",
       "      <td>Kwatyl 50%</td>\n",
       "      <td>62.00</td>\n",
       "      <td>62.00</td>\n",
       "      <td>54.00</td>\n",
       "      <td>56.00</td>\n",
       "      <td>66.00</td>\n",
       "      <td>66.00</td>\n",
       "      <td>66.00</td>\n",
       "      <td>68.00</td>\n",
       "      <td>66.00</td>\n",
       "      <td>37.00</td>\n",
       "      <td>40.00</td>\n",
       "    </tr>\n",
       "    <tr>\n",
       "      <th>5</th>\n",
       "      <td>Kwatyl 75%</td>\n",
       "      <td>68.00</td>\n",
       "      <td>68.00</td>\n",
       "      <td>64.00</td>\n",
       "      <td>65.00</td>\n",
       "      <td>74.00</td>\n",
       "      <td>74.00</td>\n",
       "      <td>74.00</td>\n",
       "      <td>75.00</td>\n",
       "      <td>74.00</td>\n",
       "      <td>45.00</td>\n",
       "      <td>48.00</td>\n",
       "    </tr>\n",
       "    <tr>\n",
       "      <th>6</th>\n",
       "      <td>Minimum</td>\n",
       "      <td>5.00</td>\n",
       "      <td>32.00</td>\n",
       "      <td>3.00</td>\n",
       "      <td>10.00</td>\n",
       "      <td>14.00</td>\n",
       "      <td>25.00</td>\n",
       "      <td>20.00</td>\n",
       "      <td>13.00</td>\n",
       "      <td>21.00</td>\n",
       "      <td>6.00</td>\n",
       "      <td>4.00</td>\n",
       "    </tr>\n",
       "    <tr>\n",
       "      <th>7</th>\n",
       "      <td>Maksimum</td>\n",
       "      <td>95.00</td>\n",
       "      <td>93.00</td>\n",
       "      <td>89.00</td>\n",
       "      <td>94.00</td>\n",
       "      <td>95.00</td>\n",
       "      <td>96.00</td>\n",
       "      <td>95.00</td>\n",
       "      <td>97.00</td>\n",
       "      <td>93.00</td>\n",
       "      <td>92.00</td>\n",
       "      <td>87.00</td>\n",
       "    </tr>\n",
       "    <tr>\n",
       "      <th>8</th>\n",
       "      <td>Skośność</td>\n",
       "      <td>-1.22</td>\n",
       "      <td>-0.09</td>\n",
       "      <td>-0.41</td>\n",
       "      <td>-0.34</td>\n",
       "      <td>-0.95</td>\n",
       "      <td>-0.42</td>\n",
       "      <td>-0.64</td>\n",
       "      <td>-0.94</td>\n",
       "      <td>-0.67</td>\n",
       "      <td>1.40</td>\n",
       "      <td>0.50</td>\n",
       "    </tr>\n",
       "  </tbody>\n",
       "</table>\n",
       "</div>"
      ],
      "text/plain": [
       "                           dribbling  reactions  interceptions  vision  \\\n",
       "0                 Średnia      56.12      61.95          47.39   54.46   \n",
       "1  Odchylenie standardowe      18.77       8.88          20.45   13.70   \n",
       "2                 Mediana      62.00      62.00          54.00   56.00   \n",
       "3             Kwartyl 25%      51.00      56.00          28.00   45.00   \n",
       "4              Kwatyl 50%      62.00      62.00          54.00   56.00   \n",
       "5              Kwatyl 75%      68.00      68.00          64.00   65.00   \n",
       "6                 Minimum       5.00      32.00           3.00   10.00   \n",
       "7                Maksimum      95.00      93.00          89.00   94.00   \n",
       "8                Skośność      -1.22      -0.09          -0.41   -0.34   \n",
       "\n",
       "   stamina  strength  balance  sprint_speed  agility  ball_uncontrol  \\\n",
       "0    63.37     65.38    64.07         64.95    63.78           41.09   \n",
       "1    16.10     12.62    14.49         15.11    14.85           16.56   \n",
       "2    66.00     66.00    66.00         68.00    66.00           37.00   \n",
       "3    56.00     58.00    56.00         57.00    56.00           31.00   \n",
       "4    66.00     66.00    66.00         68.00    66.00           37.00   \n",
       "5    74.00     74.00    74.00         75.00    74.00           45.00   \n",
       "6    14.00     25.00    20.00         13.00    21.00            6.00   \n",
       "7    95.00     96.00    95.00         97.00    93.00           92.00   \n",
       "8    -0.95     -0.42    -0.64         -0.94    -0.67            1.40   \n",
       "\n",
       "   instability  \n",
       "0        41.38  \n",
       "1        12.02  \n",
       "2        40.00  \n",
       "3        33.00  \n",
       "4        40.00  \n",
       "5        48.00  \n",
       "6         4.00  \n",
       "7        87.00  \n",
       "8         0.50  "
      ]
     },
     "execution_count": 135,
     "metadata": {},
     "output_type": "execute_result"
    }
   ],
   "source": [
    "values = pd.read_excel('FIFA_MAD_dane.xlsx', sheet_name='wartosci')\n",
    "values.head(9)"
   ]
  },
  {
   "cell_type": "markdown",
   "id": "95e1b87a-1de9-4a4e-93ee-ca56250574d0",
   "metadata": {},
   "source": [
    "### Boxploty"
   ]
  },
  {
   "cell_type": "markdown",
   "id": "1ed15c3d-3fdc-4754-99ab-8c955f0d5b7d",
   "metadata": {},
   "source": [
    "Poniżej przedstawiono graficzny rozkład posiadanych przez nas cech statystycznych. W przypadku niektórych z nich, takich jak driblling można zauważyć dużą część wartości odstających, które pokazują jak zróżnicowane są dane. Nie świadczą one o błędach pomiarowych."
   ]
  },
  {
   "cell_type": "code",
   "execution_count": 136,
   "id": "d9776a5e-3aa4-4292-9684-6e35f33081d1",
   "metadata": {},
   "outputs": [
    {
     "data": {
      "text/plain": [
       "<Axes: >"
      ]
     },
     "execution_count": 136,
     "metadata": {},
     "output_type": "execute_result"
    },
    {
     "data": {
      "image/png": "[encoded data removed]",
      "text/plain": [
       "<Figure size 700x400 with 1 Axes>"
      ]
     },
     "metadata": {},
     "output_type": "display_data"
    },
    {
     "data": {
      "image/png": "[encoded data removed]",
      "text/plain": [
       "<Figure size 700x400 with 1 Axes>"
      ]
     },
     "metadata": {},
     "output_type": "display_data"
    }
   ],
   "source": [
    "df = pd.DataFrame(data)\n",
    "plt.figure(figsize=(7, 4))\n",
    "df.boxplot([\"age\", \"dribbling\", \"reactions\", \"interceptions\", \"vision\", \"stamina\"], patch_artist=True, vert= False)\n",
    "plt.figure(figsize=(7, 4))\n",
    "df.boxplot([\"strength\", \"balance\", \"sprint_speed\", \"agility\", \"ball_uncontrol\", \"instability\"], patch_artist=True, vert= False)"
   ]
  },
  {
   "cell_type": "markdown",
   "id": "91336885-8a59-434c-96fd-36afd5b09a65",
   "metadata": {},
   "source": [
    "### Kraje z których pochodzą piłkarze"
   ]
  },
  {
   "cell_type": "markdown",
   "id": "3de2f7f8-1c8b-4085-82ea-b02c71eb1d0f",
   "metadata": {},
   "source": [
    "Histogram z krajami z których pochodzą piłkarze z naszej bazy danych pokazuje, że najwięcej z nich jest kolejno z Anglii, Niemiec oraz Hiszpanii."
   ]
  },
  {
   "cell_type": "code",
   "execution_count": 137,
   "id": "d738ffa3-549e-439f-8a4d-5f1b013234c8",
   "metadata": {},
   "outputs": [
    {
     "data": {
      "image/png": "[encoded data removed]",
      "text/plain": [
       "<Figure size 800x500 with 1 Axes>"
      ]
     },
     "metadata": {},
     "output_type": "display_data"
    }
   ],
   "source": [
    "df = pd.DataFrame(data)\n",
    "country_counts = df['country'].value_counts()\n",
    "top_10_countries = country_counts.head(10)\n",
    "plt.figure(figsize=(8, 5))\n",
    "plt.bar(top_10_countries.index, top_10_countries)\n",
    "plt.xticks(rotation=45)\n",
    "plt.show()"
   ]
  },
  {
   "cell_type": "markdown",
   "id": "42e4d246-021e-470a-9443-3bd920338577",
   "metadata": {},
   "source": [
    "## Usuwanie duplikatów"
   ]
  },
  {
   "cell_type": "code",
   "execution_count": 138,
   "id": "2a6f7fe5-20c2-49a2-9600-ef6fac9b7dce",
   "metadata": {},
   "outputs": [
    {
     "name": "stdout",
     "output_type": "stream",
     "text": [
      "The Number of duplicated : 3\n"
     ]
    }
   ],
   "source": [
    "print(f\"The Number of duplicated : {data.duplicated().sum()}\")"
   ]
  },
  {
   "cell_type": "markdown",
   "id": "87a3e1e3-5ba5-4a63-b0f0-2e4ed7d0a05e",
   "metadata": {},
   "source": [
    "W naszej bazie danych znaleźliśmy 3 duplikaty, które należy usunąć. Skorzystamy w tym celu z funkcji *drop_duplicates*, która nam to umożliwi."
   ]
  },
  {
   "cell_type": "code",
   "execution_count": 139,
   "id": "29db8cb1-add9-4152-8e6a-903604fdc8ad",
   "metadata": {},
   "outputs": [],
   "source": [
    "data.drop_duplicates(inplace=True)"
   ]
  },
  {
   "cell_type": "code",
   "execution_count": 140,
   "id": "006ebb36-0be2-48af-a321-1201d9533c4f",
   "metadata": {},
   "outputs": [
    {
     "name": "stdout",
     "output_type": "stream",
     "text": [
      "The Number of duplicated : 0\n"
     ]
    }
   ],
   "source": [
    "print(f\"The Number of duplicated : {data.duplicated().sum()}\")"
   ]
  },
  {
   "cell_type": "markdown",
   "id": "721a6618-5e86-4a44-9f96-f0a235bcb2f5",
   "metadata": {},
   "source": [
    "Po wykonaniu odpowiedniego polecenia, usunięto zduplikowane dane."
   ]
  },
  {
   "cell_type": "markdown",
   "id": "cba2c00f-16c9-4007-8207-6f2f1a3f6463",
   "metadata": {},
   "source": [
    "## Standaryzacja danych do użycia w analizie składowych głównych (PCA)"
   ]
  },
  {
   "cell_type": "code",
   "execution_count": 141,
   "id": "29b3bd65-fc1f-4317-b943-9b833e6d98df",
   "metadata": {},
   "outputs": [
    {
     "data": {
      "text/html": [
       "<style>#sk-container-id-6 {color: black;background-color: white;}#sk-container-id-6 pre{padding: 0;}#sk-container-id-6 div.sk-toggleable {background-color: white;}#sk-container-id-6 label.sk-toggleable__label {cursor: pointer;display: block;width: 100%;margin-bottom: 0;padding: 0.3em;box-sizing: border-box;text-align: center;}#sk-container-id-6 label.sk-toggleable__label-arrow:before {content: \"▸\";float: left;margin-right: 0.25em;color: #696969;}#sk-container-id-6 label.sk-toggleable__label-arrow:hover:before {color: black;}#sk-container-id-6 div.sk-estimator:hover label.sk-toggleable__label-arrow:before {color: black;}#sk-container-id-6 div.sk-toggleable__content {max-height: 0;max-width: 0;overflow: hidden;text-align: left;background-color: #f0f8ff;}#sk-container-id-6 div.sk-toggleable__content pre {margin: 0.2em;color: black;border-radius: 0.25em;background-color: #f0f8ff;}#sk-container-id-6 input.sk-toggleable__control:checked~div.sk-toggleable__content {max-height: 200px;max-width: 100%;overflow: auto;}#sk-container-id-6 input.sk-toggleable__control:checked~label.sk-toggleable__label-arrow:before {content: \"▾\";}#sk-container-id-6 div.sk-estimator input.sk-toggleable__control:checked~label.sk-toggleable__label {background-color: #d4ebff;}#sk-container-id-6 div.sk-label input.sk-toggleable__control:checked~label.sk-toggleable__label {background-color: #d4ebff;}#sk-container-id-6 input.sk-hidden--visually {border: 0;clip: rect(1px 1px 1px 1px);clip: rect(1px, 1px, 1px, 1px);height: 1px;margin: -1px;overflow: hidden;padding: 0;position: absolute;width: 1px;}#sk-container-id-6 div.sk-estimator {font-family: monospace;background-color: #f0f8ff;border: 1px dotted black;border-radius: 0.25em;box-sizing: border-box;margin-bottom: 0.5em;}#sk-container-id-6 div.sk-estimator:hover {background-color: #d4ebff;}#sk-container-id-6 div.sk-parallel-item::after {content: \"\";width: 100%;border-bottom: 1px solid gray;flex-grow: 1;}#sk-container-id-6 div.sk-label:hover label.sk-toggleable__label {background-color: #d4ebff;}#sk-container-id-6 div.sk-serial::before {content: \"\";position: absolute;border-left: 1px solid gray;box-sizing: border-box;top: 0;bottom: 0;left: 50%;z-index: 0;}#sk-container-id-6 div.sk-serial {display: flex;flex-direction: column;align-items: center;background-color: white;padding-right: 0.2em;padding-left: 0.2em;position: relative;}#sk-container-id-6 div.sk-item {position: relative;z-index: 1;}#sk-container-id-6 div.sk-parallel {display: flex;align-items: stretch;justify-content: center;background-color: white;position: relative;}#sk-container-id-6 div.sk-item::before, #sk-container-id-6 div.sk-parallel-item::before {content: \"\";position: absolute;border-left: 1px solid gray;box-sizing: border-box;top: 0;bottom: 0;left: 50%;z-index: -1;}#sk-container-id-6 div.sk-parallel-item {display: flex;flex-direction: column;z-index: 1;position: relative;background-color: white;}#sk-container-id-6 div.sk-parallel-item:first-child::after {align-self: flex-end;width: 50%;}#sk-container-id-6 div.sk-parallel-item:last-child::after {align-self: flex-start;width: 50%;}#sk-container-id-6 div.sk-parallel-item:only-child::after {width: 0;}#sk-container-id-6 div.sk-dashed-wrapped {border: 1px dashed gray;margin: 0 0.4em 0.5em 0.4em;box-sizing: border-box;padding-bottom: 0.4em;background-color: white;}#sk-container-id-6 div.sk-label label {font-family: monospace;font-weight: bold;display: inline-block;line-height: 1.2em;}#sk-container-id-6 div.sk-label-container {text-align: center;}#sk-container-id-6 div.sk-container {/* jupyter's `normalize.less` sets `[hidden] { display: none; }` but bootstrap.min.css set `[hidden] { display: none !important; }` so we also need the `!important` here to be able to override the default hidden behavior on the sphinx rendered scikit-learn.org. See: https://github.com/scikit-learn/scikit-learn/issues/21755 */display: inline-block !important;position: relative;}#sk-container-id-6 div.sk-text-repr-fallback {display: none;}</style><div id=\"sk-container-id-6\" class=\"sk-top-container\"><div class=\"sk-text-repr-fallback\"><pre>PCA(n_components=3)</pre><b>In a Jupyter environment, please rerun this cell to show the HTML representation or trust the notebook. <br />On GitHub, the HTML representation is unable to render, please try loading this page with nbviewer.org.</b></div><div class=\"sk-container\" hidden><div class=\"sk-item\"><div class=\"sk-estimator sk-toggleable\"><input class=\"sk-toggleable__control sk-hidden--visually\" id=\"sk-estimator-id-6\" type=\"checkbox\" checked><label for=\"sk-estimator-id-6\" class=\"sk-toggleable__label sk-toggleable__label-arrow\">PCA</label><div class=\"sk-toggleable__content\"><pre>PCA(n_components=3)</pre></div></div></div></div></div>"
      ],
      "text/plain": [
       "PCA(n_components=3)"
      ]
     },
     "execution_count": 141,
     "metadata": {},
     "output_type": "execute_result"
    }
   ],
   "source": [
    "data_with_numbers = data.drop(['player', 'country', 'club', 'age', 'height'], axis=1)\n",
    "scaler = StandardScaler()\n",
    "df = scaler.fit_transform(data_with_numbers)\n",
    "pca = PCA(n_components=3)\n",
    "pca.fit(df)"
   ]
  },
  {
   "cell_type": "markdown",
   "id": "982e96b3-9203-4513-bf0f-a5bfabde71ba",
   "metadata": {},
   "source": [
    "## Interpretacja wyników: które cechy mają największy wpływ na róznice między piłkarzami. \n",
    "Wykorzystywana jest analiza współczynników ładunku głównych składowych PC. Wartości te określają jak bardzo każda cecha przyczynia się do każdej głównej składowej.\n",
    "- Wartości bliskie zeru wskazują na to, że dana cecha ma mały wpływ na dany komponent główny.\n",
    "- Dodatnie wartości wskazują na pozytywną korelację między daną cechą a danym komponentem głównym, podczas gdy ujemne wartości wskazują na negatywną korelację.\n",
    "- Im większa wartość bezwzględna, tym większy wpływ ma dana cecha na dany komponent główny."
   ]
  },
  {
   "cell_type": "code",
   "execution_count": 142,
   "id": "f0ae7455-aee2-4d54-900d-27f0cd914313",
   "metadata": {},
   "outputs": [
    {
     "name": "stdout",
     "output_type": "stream",
     "text": [
      "   dribbling  reactions  interceptions    vision   stamina  strength  \\\n",
      "0  -0.378095  -0.229415      -0.203593 -0.313167 -0.331934 -0.040642   \n",
      "1   0.085827  -0.369532      -0.337775  0.018964 -0.147279 -0.624096   \n",
      "2   0.006334   0.462559      -0.508310  0.468746 -0.358108 -0.158818   \n",
      "\n",
      "    balance  sprint_speed   agility  ball_uncontrol  instability  \n",
      "0 -0.302789     -0.310169 -0.335577        0.380541     0.328250  \n",
      "1  0.361435      0.212476  0.307950        0.024697     0.243344  \n",
      "2 -0.088780     -0.252668 -0.023253        0.019244    -0.286004  \n"
     ]
    }
   ],
   "source": [
    "loadings = pca.components_\n",
    "loadings_df = pd.DataFrame(loadings, columns=data_with_numbers.columns)\n",
    "print(loadings_df)"
   ]
  },
  {
   "cell_type": "markdown",
   "id": "d52fae36-eec1-4da5-b56c-7c2b45892b08",
   "metadata": {},
   "source": [
    "## Wnioski\n",
    "- pierwsza główna składowa (indeks 0): największy wpływ na tę składową mają zmienne <b>dribbling, vision, stamina, balance, sprint_speed, agility</b>. Wszystkie te zmienne mają ujemne ładunki, co oznacza, że im wyższa jest wartość tych zmiennych, tym niższa jest wartość tej głównej składowej. Zmienne <b>ball_uncontrol i instability</b> mają dodatni ładunek, co oznacza, że im wyższa jest wartość tych zmiennych, tym wyższa jest wartość tej głównej składowej.\n",
    "- druga główna składowa (indeks 1) : zmienne ujemne o największym wpływie: <b>reactions, interceptions, strength</b> zmienne dodatnie: <b>balance, agility</b>\n",
    "- trzecia główna składowa (indeks 2): ujemne zmienne: <b>interceptions, stamina</b> dodatnie zmienne: <b>reactions, vision</b>\n",
    "### Cechy takie jak reactions, interceptions, instability najbardziej wpływają na różnice między piłkarzami."
   ]
  },
  {
   "cell_type": "code",
   "execution_count": 143,
   "id": "889bc2e4-8709-4172-99f9-304540aa6512",
   "metadata": {},
   "outputs": [
    {
     "data": {
      "image/png": "[encoded data removed]",
      "text/plain": [
       "<Figure size 640x480 with 1 Axes>"
      ]
     },
     "metadata": {},
     "output_type": "display_data"
    }
   ],
   "source": [
    "pca_data = pca.transform(df)\n",
    "plt.scatter(pca_data[:,0], pca_data[:,1])\n",
    "plt.xlabel('PC1')\n",
    "plt.ylabel('PC2')\n",
    "plt.title('PCA')\n",
    "plt.show()"
   ]
  },
  {
   "cell_type": "markdown",
   "id": "e0f2f92a-812b-46cf-bae9-ca2aaada3d66",
   "metadata": {},
   "source": [
    "# Metoda TOPSIS"
   ]
  },
  {
   "cell_type": "markdown",
   "id": "31402534-7333-4605-9196-0fc04118a8df",
   "metadata": {},
   "source": [
    "Metoda TOPSIS (ang. Technique for Order Preference by Similarity to Ideal Solution) jest wielokryterialną metodą analizy decyzyjnej, służącą do porządkowania i wyboru wariantów decyzyjnych w oparciu o zestaw kryteriów."
   ]
  },
  {
   "cell_type": "markdown",
   "id": "d89c7000-8e3f-4345-b23b-04b4152bd7c3",
   "metadata": {},
   "source": [
    "Na początek wyznaczamy znormalizowaną macierz decyzyjną: $R = (r_{ij}) $"
   ]
  },
  {
   "cell_type": "markdown",
   "id": "0afd3e80-d02b-469a-bbb6-187cdcbf76cd",
   "metadata": {},
   "source": [
    "$$ r_{ij} = \\frac{x_{ij}}{\\sqrt{\\sum_{k=1}^m x_{kj}^2}} $$"
   ]
  },
  {
   "cell_type": "markdown",
   "id": "da4b72c5-9975-4fd3-b950-ea0b998fae37",
   "metadata": {},
   "source": [
    "Następnie wyznaczamy ważoną znormalizowaną macierz decyzyjną $ V = (v_{ij}) $"
   ]
  },
  {
   "cell_type": "markdown",
   "id": "71e447bd-8bb9-4fc3-97af-67fb135d6d07",
   "metadata": {},
   "source": [
    "$$ v_{ij} = r_{ij} \\cdot w_j $$"
   ]
  },
  {
   "cell_type": "code",
   "execution_count": 144,
   "id": "3ccb96d7-f028-41fc-ad57-5a361d8e78a4",
   "metadata": {},
   "outputs": [
    {
     "data": {
      "text/plain": [
       "array([[-0.69981555,  0.68073828,  0.86111468, ..., -1.39909815,\n",
       "         0.23606446,  0.71672886],\n",
       "       [ 0.73914368,  0.90589305,  1.10560714, ...,  0.08208925,\n",
       "        -0.60910223,  0.38397445],\n",
       "       [-2.35195392,  0.34300612, -1.33931747, ..., -1.87038505,\n",
       "         2.04713593,  0.88310607],\n",
       "       ...,\n",
       "       [ 2.07151333,  2.93228597, -0.50804311, ...,  1.96723685,\n",
       "        -2.11832845, -2.86038108],\n",
       "       [ 1.32538633,  3.15744074, -0.89923104, ...,  0.89000965,\n",
       "        -1.69574511, -2.94356968],\n",
       "       [ 1.00561761,  1.69393474, -1.33931747, ...,  0.21674265,\n",
       "        -1.57500701, -2.61081527]])"
      ]
     },
     "execution_count": 144,
     "metadata": {},
     "output_type": "execute_result"
    }
   ],
   "source": [
    "columns = ['dribbling', 'reactions', 'interceptions', 'vision', 'stamina', 'strength', 'balance', 'sprint_speed', 'agility', 'ball_uncontrol', 'instability']\n",
    "numeric_data = data[columns]\n",
    "scaled_numeric_data = scaler.fit_transform(numeric_data) \n",
    "scaled_numeric_data"
   ]
  },
  {
   "cell_type": "markdown",
   "id": "7a789656-2832-414f-8c87-d210698b3647",
   "metadata": {},
   "source": [
    "### Liczenie wag"
   ]
  },
  {
   "cell_type": "code",
   "execution_count": 145,
   "id": "4cd9f854-f186-4eb5-a0fc-864aee170aac",
   "metadata": {},
   "outputs": [
    {
     "name": "stdout",
     "output_type": "stream",
     "text": [
      "Wagi:\n",
      "[0.02702703 0.13513514 0.13513514 0.10810811 0.10810811 0.10810811\n",
      " 0.08108108 0.08108108 0.05405405 0.02702703 0.13513514]\n",
      "Suma wag: 1.0\n"
     ]
    }
   ],
   "source": [
    "preferences = {\n",
    "    'dribbling': 1,\n",
    "    'reactions': 5,\n",
    "    'interceptions': 5,\n",
    "    'vision': 4,\n",
    "    'stamina': 4,\n",
    "    'strength': 4,\n",
    "    'balance': 3,\n",
    "    'sprint_speed': 3,\n",
    "    'agility': 2,\n",
    "    'ball_uncontrol': 1,\n",
    "    'instability': 5\n",
    "}\n",
    "\n",
    "total_preference = sum(preferences.values())\n",
    "normalized_preferences = {feature: weight/total_preference for feature, weight in preferences.items()}\n",
    "\n",
    "weights = np.array(list(normalized_preferences.values()))\n",
    "\n",
    "print(\"Wagi:\")\n",
    "print(weights)\n",
    "print(\"Suma wag:\", np.sum(weights))"
   ]
  },
  {
   "cell_type": "markdown",
   "id": "90b52a77-ed17-457e-8257-7d199af64b6c",
   "metadata": {},
   "source": [
    "Wyznaczamy idealne $A^+ $ i nieidealne $A^-$ rozwiązanie"
   ]
  },
  {
   "cell_type": "markdown",
   "id": "8aba6fa6-0f31-4223-984d-46035fd9d170",
   "metadata": {},
   "source": [
    "$$ A^+ = (v_1^+,v_2^+,\\ldots,v_n^+) = \\{(\\max_i v_{ij}~|~j\\in B)\\}, \\{(\\min_i v_{ij}~|~j\\in C)\\} $$ $$\n",
    "A^- = (v_1^-,v_2^-,\\ldots,v_n^-) = \\{(\\min_i v_{ij}~|~j\\in B)\\}, \\{(\\max_i v_{ij}~|~j\\in C)\\}\n",
    "$$"
   ]
  },
  {
   "cell_type": "code",
   "execution_count": 146,
   "id": "a25682f9-2006-4e04-9ede-efd6c66bf937",
   "metadata": {},
   "outputs": [],
   "source": [
    "ideal_solution = np.max(scaled_numeric_data, axis=0)\n",
    "non_ideal_solution = np.min(scaled_numeric_data, axis=0)"
   ]
  },
  {
   "cell_type": "markdown",
   "id": "763504a1-248c-4ef7-b454-508b133e4245",
   "metadata": {},
   "source": [
    "Obliczamy odległości od idealnego oraz nieidealnego rozwiązania"
   ]
  },
  {
   "cell_type": "markdown",
   "id": "b777d00b-7824-486f-9348-70d1f2d50e4c",
   "metadata": {},
   "source": [
    "odległości każdego wariantu decyzyjnego $A_i$ od rozwiązania\r\n",
    "idealnego$A^+$ $$\n",
    "d_i^+ = \\sqrt{\\sum_{j=1}^n (v_{ij} - v_j^+)^2} $$oraz antyidealnego $A^-$  $$\n",
    "d_i^- = \\sqrt{\\sum_{j=1}^n (v_{ij} - v_j^-)^2}\n",
    "$$"
   ]
  },
  {
   "cell_type": "code",
   "execution_count": 147,
   "id": "b1819514-6019-4993-abae-bdccb086701f",
   "metadata": {},
   "outputs": [],
   "source": [
    "distance_to_ideal = np.sqrt(np.sum((scaled_numeric_data - ideal_solution) ** 2, axis=1))\n",
    "distance_to_non_ideal = np.sqrt(np.sum((scaled_numeric_data - non_ideal_solution) ** 2, axis=1))"
   ]
  },
  {
   "cell_type": "markdown",
   "id": "e4d796f4-0d62-4755-8ea0-05ccb6c09a6d",
   "metadata": {},
   "source": [
    "Obliczenie wyniku TOPSIS"
   ]
  },
  {
   "cell_type": "markdown",
   "id": "e556b4df-efea-4935-9880-14753d84253a",
   "metadata": {},
   "source": [
    "Wyznaczenie współczynnika względnej bliskości wariantów decyzyjnych\r",
    "$A_i$ \n",
    "do rozwiązania idealnego $A^+$\n",
    "$$\n",
    "RC_i = \\frac{d_i^-}{d_i^++d_i^-}\n",
    "$$"
   ]
  },
  {
   "cell_type": "markdown",
   "id": "4bb516b7-ae1b-4930-b216-825f8faf329f",
   "metadata": {},
   "source": [
    "Ranking wariantów decyzyjnych względem wartości współczynnika\r\n",
    "względnej bliskości wariantów decyzyjnych do rozwiązania idealnego –$~RC_i$. Im\r\n",
    "wyższa wartość tego współczynnika tym lepszy wariant decyzyjny. Najlepszym wariantem jest ten z najwyższą wartości$~RC_i$. "
   ]
  },
  {
   "cell_type": "code",
   "execution_count": 148,
   "id": "f259f197-0bb7-4dda-8461-b0cfcaed205e",
   "metadata": {},
   "outputs": [],
   "source": [
    "topsis_score = distance_to_non_ideal / (distance_to_ideal + distance_to_non_ideal)"
   ]
  },
  {
   "cell_type": "markdown",
   "id": "b4d9cdb0-4e7d-4948-bafd-04453c2a0974",
   "metadata": {},
   "source": [
    "Dodanie kolumny z wynikiem TOPSIS do danych i sortowanie"
   ]
  },
  {
   "cell_type": "code",
   "execution_count": 149,
   "id": "bd60c848-9574-4842-ac13-fa661d07c066",
   "metadata": {},
   "outputs": [
    {
     "name": "stdout",
     "output_type": "stream",
     "text": [
      "                     player  country  height  age               club  \\\n",
      "3970         Mubarak Wakaso    Ghana     171   33         KAS Eupen    \n",
      "1374         Luis Advíncula     Peru     180   33      Boca Juniors    \n",
      "2710                  Anuar  Morocco     174   28  R. Valladolid CF    \n",
      "606            Adryan Zonta   Brazil     172   31            Brazil    \n",
      "5183         Jonas Svensson   Norway     170   30   Adana Demirspor    \n",
      "...                     ...      ...     ...  ...                ...   \n",
      "4398      Lucas Zahaczewski  Germany     186   22    SpVgg Bayreuth    \n",
      "785     Jeppe Ørris Nielsen  Denmark     188   19        Randers FC    \n",
      "2920        Paul Tschernuth  Austria     186   21        Heidenheim    \n",
      "2676  Quentin Galvez-Diarra   France     188   21            Pau FC    \n",
      "850           Edoardo Sarri    Italy     187   24              Bari    \n",
      "\n",
      "      dribbling  reactions  interceptions  vision  stamina  strength  balance  \\\n",
      "3970         68         78             71      71       85        81       88   \n",
      "1374         74         70             71      65       88        79       80   \n",
      "2710         71         75             74      69       89        59       85   \n",
      "606          77         82             74      64       91        73       78   \n",
      "5183         73         78             74      71       91        77       93   \n",
      "...         ...        ...            ...     ...      ...       ...      ...   \n",
      "4398         12         46             12      31       16        36       33   \n",
      "785          10         35              7      36       26        42       34   \n",
      "2920         12         41              7      21       24        41       38   \n",
      "2676         10         41             10      29       24        37       34   \n",
      "850           7         37             14      35       16        46       32   \n",
      "\n",
      "      sprint_speed  agility  ball_uncontrol  instability  TOPSIS Score  \n",
      "3970            82       82              29           30      0.653524  \n",
      "1374            88       82              28           40      0.652946  \n",
      "2710            78       84              31           42      0.648298  \n",
      "606             93       81              28           26      0.644178  \n",
      "5183            83       77              26           25      0.643434  \n",
      "...            ...      ...             ...          ...           ...  \n",
      "4398            28       30              81           62      0.342341  \n",
      "785             30       28              80           63      0.342046  \n",
      "2920            17       22              80           70      0.342033  \n",
      "2676            16       37              82           64      0.339839  \n",
      "850             24       21              81           61      0.332988  \n",
      "\n",
      "[5678 rows x 17 columns]\n"
     ]
    }
   ],
   "source": [
    "data['TOPSIS Score'] = topsis_score\n",
    "sorted_data = data.sort_values(by='TOPSIS Score', ascending=False)\n",
    "print(sorted_data)\n",
    "sorted_data.to_excel(\"posortowane_wedlug_topsis.xlsx\", index=False)"
   ]
  },
  {
   "cell_type": "markdown",
   "id": "0f185aab-614e-4f2c-8fc3-3b9ace181b87",
   "metadata": {},
   "source": [
    "## Wnioski\n",
    "- **Najlepsi:**  Mubarak Wakaso, Luis Advíncula, Anuar\n",
    "- **Najgorsi:** Edoardo Sarri, Quentin Galvez-Diarra, Paul Tschernuth<br>\n",
    "\n",
    "Metoda $TOPSIS$ całkiem chybi z oceną piłkarzy. Dane zawarte w tym projekcie są danymi realistycznymi i dwie pozostałe metody potwierdzają nasze predykcje w odniesiu do piłkarzy, którzy powinni znaleźć się w pierwszej dziesiątce. Niestety w rankingu wykorzystującym powyższą metodę statystyczną wyniki są nieprawdziwe.  \n",
    "## Wykresy"
   ]
  },
  {
   "cell_type": "code",
   "execution_count": null,
   "id": "3fb38f28-1c41-46d1-9651-5be764331566",
   "metadata": {},
   "outputs": [],
   "source": [
    "average_scores_by_height = sorted_data.groupby('height')['TOPSIS Score'].mean()\n",
    "\n",
    "plt.figure(figsize=(12, 8))\n",
    "plt.plot(average_scores_by_height.index, average_scores_by_height.values, marker='o', linestyle='-', color='skyblue')\n",
    "plt.xlabel('Wzrost')\n",
    "plt.ylabel('Średnia ocena TOPSIS Score')\n",
    "plt.title('Średnia ocena TOPSIS Score w zależności od wzrostu piłkarzy')\n",
    "plt.grid(True)\n",
    "plt.show()"
   ]
  },
  {
   "cell_type": "code",
   "execution_count": null,
   "id": "f861f704-f574-42ec-8dd5-6db1448675dd",
   "metadata": {},
   "outputs": [],
   "source": [
    "players_count_by_country = data_sorted['country'].value_counts()\n",
    "\n",
    "top_countries = players_count_by_country[players_count_by_country >= 40].index\n",
    "\n",
    "average_scores_by_country = data_sorted[data_sorted['country'].isin(top_countries)].groupby('country')['TOPSIS Score'].mean()\n",
    "\n",
    "top_countries = average_scores_by_country.nlargest(10).index\n",
    "\n",
    "top_countries_data = data_sorted[data_sorted['country'].isin(top_countries)]\n",
    "\n",
    "plt.figure(figsize=(10, 6))\n",
    "bar_plot = average_scores_by_country[top_countries].plot(kind='bar', color='skyblue')\n",
    "plt.xlabel('Kraj')\n",
    "plt.ylabel('Średnia ocena TOPSIS Score')\n",
    "plt.title('Średnia ocena TOPSIS Score dla najlepszych krajów (z co najmniej 40 piłkarzami)')\n",
    "plt.xticks(rotation=45, ha='right')\n",
    "plt.grid(axis='y', linestyle='--', alpha=0.7)\n",
    "plt.tight_layout()\n",
    "\n",
    "bar_plot.set_ylim(0.525, 0.555)\n",
    "\n",
    "plt.show()"
   ]
  },
  {
   "cell_type": "code",
   "execution_count": null,
   "id": "acb9d682-0c1a-4721-8ee0-0cb422dedf08",
   "metadata": {},
   "outputs": [],
   "source": [
    "average_scores_by_age = data_sorted.groupby('age')['TOPSIS Score'].mean()\n",
    "\n",
    "plt.figure(figsize=(12, 8))\n",
    "plt.plot(average_scores_by_age.index, average_scores_by_age.values, marker='o', linestyle='-', color='skyblue')\n",
    "plt.xlabel('Wiek')\n",
    "plt.ylabel('Średnia ocena TOPSIS Score')\n",
    "plt.title('Średnia ocena TOPSIS Score w zależności od wieku piłkarzy')\n",
    "plt.grid(True)\n",
    "plt.show()"
   ]
  },
  {
   "cell_type": "markdown",
   "id": "d91d0a21-72e0-4bf6-8d64-eccf82257245",
   "metadata": {},
   "source": [
    "# Metoda SSW"
   ]
  },
  {
   "cell_type": "markdown",
   "id": "f9e10209-ed50-475b-a8f9-929cef8011a3",
   "metadata": {},
   "source": [
    "**Metoda statystyczna SSW**, czyli *Suma kwadratów odchyleń wewnątrzgrupowych*, jest miarą zmienności w obrębie poszczególnych grup w zbiorze danych. SSW jest wykorzystywana w analizie wariancji (ANOVA) do oceny, czy istnieją statystycznie istotne różnice między średnimi wartościami różnych grup."
   ]
  },
  {
   "cell_type": "markdown",
   "id": "6015b5eb-c344-413a-a8d4-5bfd26a5fba2",
   "metadata": {},
   "source": [
    "$$\n",
    "SSW = \\sum_{i}^n\\sum_{j}^m(x_i-x_j)^2\n",
    "$$\n",
    "$x_i$ - wartość i-tej obserwacji w j-tej grupie <br>\n",
    "$x_j$ - średnia arytmetyczna j-tej grupy"
   ]
  },
  {
   "cell_type": "markdown",
   "id": "f755fa18-c59e-47b7-a16b-dc5e4950b82f",
   "metadata": {},
   "source": [
    "**Interpretacja**:<br>\n",
    "- *Mała wartość SSW*: Oznacza to, że dane w obrębie grup są homogeniczne, czyli mało zróżnicowane. Innymi słowy, obserwacje w danej grupie są zbliżone do siebie pod względem wartości cechy, którą badamy.\n",
    "- *Duża wartość SSW*\\: Oznacza to, że dane w obrębie grup są heterogeniczne, czyli zróżnicowane. Innymi słowy, obserwacje w danej grupie różnią się między sobą pod względem wartości cechy, którą badamy."
   ]
  },
  {
   "cell_type": "code",
   "execution_count": null,
   "id": "0412692c-fb5c-41fc-ade1-3731c183b526",
   "metadata": {},
   "outputs": [],
   "source": [
    "features = ['dribbling', 'reactions', 'interceptions', 'vision', 'stamina', \n",
    "            'strength', 'balance', 'sprint_speed', 'agility', 'ball_uncontrol', 'instability']\n",
    "weights = dict(zip(features, weights))\n",
    "data['ssw'] = numeric_data.apply(lambda row: sum(row[feature] * weight for feature, weight in weights.items()), axis=1)\n",
    "ranked_players = data.sort_values(by='ssw', ascending=False)\n",
    "print(ranked_players)\n",
    "ranked_players.to_excel(\"posortowane_wedlug_ssw.xlsx\", index=False)"
   ]
  },
  {
   "cell_type": "markdown",
   "id": "85fde58b-7a72-4b9c-8e67-7ddf5f09cbbc",
   "metadata": {},
   "source": [
    "## Wnioski\n",
    "- **Najlepsi:**  Pedri, Mohamed Salah, Federico Valverde\n",
    "- **Najgorsi:** Alexandru Utiu, Ghjuvanni Quilichini, Paul Tschernuth\n",
    "\n",
    "Ranking wykorzystujący metodę SSW jest lepszy od metody TOPSIS.\n",
    "\n",
    "Jest to metoda z dużą wrażliwością na wartości odstające, których w naszych danych jest sporo. Metoda SSW nie uwzględnia wag zmiennych. Oznacza to, że wszystkie zmienne są traktowane jako równie ważne, co nie zawsze jest zgodne z rzeczywistością.<br>Nieprawdą byłoby stwierdzenie, że umiejętność przeglądu pola (vision) ma taką samą wagę jak prędkość piłkarza podczas sprintów (sprint_speed).\n",
    "## Wykresy"
   ]
  },
  {
   "cell_type": "code",
   "execution_count": null,
   "id": "3082e745-da1e-46c2-a1b5-1757dfea487b",
   "metadata": {},
   "outputs": [],
   "source": [
    "average_scores_by_height = data.groupby('height')['ssw'].mean()\n",
    "plt.figure(figsize=(12, 8))\n",
    "plt.plot(average_scores_by_height.index, average_scores_by_height.values, marker='o', linestyle='-', color='skyblue')\n",
    "plt.xlabel('Wzrost')\n",
    "plt.ylabel('Średnia ocena SSW')\n",
    "plt.title('Średnia ocena SSW w zależności od wzrostu piłkarzy')\n",
    "plt.grid(True)\n",
    "plt.show()"
   ]
  },
  {
   "cell_type": "code",
   "execution_count": null,
   "id": "edb7d0f8-b324-418a-a258-219ab8649994",
   "metadata": {},
   "outputs": [],
   "source": [
    "players_count_by_country = data_sorted['country'].value_counts()\n",
    "\n",
    "top_countries = players_count_by_country[players_count_by_country >= 40].index\n",
    "\n",
    "average_scores_by_country = data[data['country'].isin(top_countries)].groupby('country')['ssw'].mean()\n",
    "\n",
    "top_countries = average_scores_by_country.nlargest(10).index\n",
    "\n",
    "top_countries_data = data_sorted[data_sorted['country'].isin(top_countries)]\n",
    "\n",
    "plt.figure(figsize=(10, 6))\n",
    "bar_plot = average_scores_by_country[top_countries].plot(kind='bar', color='skyblue')\n",
    "plt.xlabel('Kraj')\n",
    "plt.ylabel('Średnia ocena SSW')\n",
    "plt.title('Średnia ocena SSW dla najlepszych krajów (z co najmniej 40 piłkarzami)')\n",
    "plt.xticks(rotation=45, ha='right')\n",
    "plt.grid(axis='y', linestyle='--', alpha=0.7)\n",
    "plt.tight_layout()\n",
    "\n",
    "bar_plot.set_ylim(56.5, 59.5)\n",
    "\n",
    "plt.show()"
   ]
  },
  {
   "cell_type": "code",
   "execution_count": null,
   "id": "1583e5e3-cedc-412e-b5ad-85c021343cfb",
   "metadata": {},
   "outputs": [],
   "source": [
    "average_scores_by_age = data.groupby('age')['ssw'].mean()\n",
    "\n",
    "plt.figure(figsize=(12, 8))\n",
    "plt.plot(average_scores_by_age.index, average_scores_by_age.values, marker='o', linestyle='-', color='skyblue')\n",
    "plt.xlabel('Wiek')\n",
    "plt.ylabel('Średnia ocena SSW')\n",
    "plt.title('Średnia ocena SSW w zależności od wieku piłkarzy')\n",
    "plt.grid(True)\n",
    "plt.show()"
   ]
  },
  {
   "cell_type": "markdown",
   "id": "b5ec044b-ee5b-4017-a468-da7e39a77be1",
   "metadata": {},
   "source": [
    "# Metoda regresji liniowej"
   ]
  },
  {
   "cell_type": "markdown",
   "id": "e983f1a7-2b51-4706-be0e-567f6f49beee",
   "metadata": {},
   "source": [
    "Metoda regresji liniowej jest statystyczną metodą modelowania zależności między zmienną zależną a jedną lub kilkoma zmiennymi niezależnymi. Model regresji liniowej zakłada, że zależność między zmiennymi jest liniowa, czyli można ją przedstawić za pomocą równania prostego $y = ax + b$"
   ]
  },
  {
   "cell_type": "markdown",
   "id": "ebf33c0f-ef0a-4871-909e-530137dc1fe3",
   "metadata": {},
   "source": [
    "$$\n",
    "a = \\frac{\\sum_{i=1}^n (x_i-\\bar x)(y_i-\\bar y)}{\\sum_{i=1}^n (x_i-\\bar x)^2}\n",
    "$$ $$\n",
    "b = \\bar y - a\\bar x\n",
    "$$\n",
    "\n",
    "$b$ - współczynnik regresji (dla predyktora, przy predyktorze)<br>\n",
    "$x_i$ - wyniki dla predyktora, kolejne obserwacje zmiennej wyjaśniającej<br>\n",
    "$y_i$ - wyniki dla zmiennej zależnej, kolejne obserwacje zmiennej wyjaśnianej<br>\n",
    "$\\bar x$ - średnia obserwowana wartość zmiennej wyjaśniającej, predykatora<br>\n",
    "$\\bar y$ - średnia obserwowana wartość zmiennej wyjaśnianej, zależnej"
   ]
  },
  {
   "cell_type": "code",
   "execution_count": null,
   "id": "a979963a-5734-48ca-91fd-2c074144a123",
   "metadata": {},
   "outputs": [],
   "source": [
    "columns = ['dribbling', 'reactions', 'interceptions', 'vision', 'stamina', 'strength', 'balance', 'sprint_speed', 'agility', 'ball_uncontrol', 'instability']\n",
    "X = data[columns]\n",
    "\n",
    "scaler = StandardScaler()\n",
    "X_scaled = scaler.fit_transform(X)\n",
    "\n",
    "weights = [0.02857143, 0.14285714, 0.02857143, 0.14285714, 0.05714286, 0.14285714, 0.08571429, 0.05714286, 0.02857143, -0.02857143, -0.02857143]\n",
    "data['regresja liniowa'] = (X_scaled * weights).sum(axis=1)\n",
    "\n",
    "data_sorted = data.sort_values(by='regresja liniowa', ascending=False)\n",
    "\n",
    "print(data_sorted)"
   ]
  },
  {
   "cell_type": "markdown",
   "id": "d1af61ab-8bbd-4e0b-b5c8-b35de4d6ef8c",
   "metadata": {},
   "source": [
    "## Wnioski\n",
    "- **Najlepsi:**  Mohamed Salah, Kylian Mbappé, Lionel Messi\n",
    "- **Najgorsi:** Alexandru Utiu, Ghjuvanni Quilichini, Paul Tschernuth\n",
    "  \n",
    "Regresja liniowa najlepiej z powyższych metod przewiduje oceny piłkarzy, ponieważ zostały spełnione jej założenia tj. m.in.: \n",
    "- liniowa zależność między zmienną zależną, a zmiennymi niezależnymi,\n",
    "- zmienne niezależne nie są liniowo zależne od siebie,\n",
    "- mamy dużą ilość danych"
   ]
  },
  {
   "cell_type": "markdown",
   "id": "fda23f5d-f439-4d29-92ed-8e3ddc2b898e",
   "metadata": {},
   "source": [
    "## Wykresy"
   ]
  },
  {
   "cell_type": "code",
   "execution_count": null,
   "id": "6e83ec02-8cd5-4277-bb04-364b97affd50",
   "metadata": {},
   "outputs": [],
   "source": [
    "average_scores_by_height = data_sorted.groupby('height')['regresja liniowa'].mean()\n",
    "\n",
    "plt.figure(figsize=(12, 8))\n",
    "plt.plot(average_scores_by_height.index, average_scores_by_height.values, marker='o', linestyle='-', color='skyblue')\n",
    "plt.xlabel('Wzrost')\n",
    "plt.ylabel('Średnia ocena regresji liniowej')\n",
    "plt.title('Średnia ocena regresji liniowej w zależności od wzrostu piłkarzy')\n",
    "plt.grid(True)\n",
    "plt.show()"
   ]
  },
  {
   "cell_type": "code",
   "execution_count": null,
   "id": "65a5219b-4bb2-4192-b3c2-4eae3fe841f7",
   "metadata": {},
   "outputs": [],
   "source": [
    "players_count_by_country = data_sorted['country'].value_counts()\n",
    "\n",
    "top_countries = players_count_by_country[players_count_by_country >= 40].index\n",
    "\n",
    "average_scores_by_country = data_sorted[data_sorted['country'].isin(top_countries)].groupby('country')['regresja liniowa'].mean()\n",
    "\n",
    "top_countries = average_scores_by_country.nlargest(10).index\n",
    "\n",
    "top_countries_data = data_sorted[data_sorted['country'].isin(top_countries)]\n",
    "\n",
    "plt.figure(figsize=(10, 6))\n",
    "average_scores_by_country[top_countries].plot(kind='bar', color='skyblue')\n",
    "plt.xlabel('Kraj')\n",
    "plt.ylabel('Średnia ocena regresji liniowej')\n",
    "plt.title('Średnia ocena regresji liniowej dla najlepszych krajów (z co najmniej 40 piłkarzami)')\n",
    "plt.xticks(rotation=45, ha='right')\n",
    "plt.grid(axis='y', linestyle='--', alpha=0.7)\n",
    "plt.tight_layout()\n",
    "plt.show()"
   ]
  },
  {
   "cell_type": "code",
   "execution_count": null,
   "id": "f3e9f6e9-c056-47a1-9cc2-e3db81bae728",
   "metadata": {},
   "outputs": [],
   "source": [
    "average_scores_by_age = data_sorted.groupby('age')['regresja liniowa'].mean()\n",
    "\n",
    "plt.figure(figsize=(12, 8))\n",
    "plt.plot(average_scores_by_age.index, average_scores_by_age.values, marker='o', linestyle='-', color='skyblue')\n",
    "plt.xlabel('Wiek')\n",
    "plt.ylabel('Średnia ocena regresji liniowej')\n",
    "plt.title('Średnia ocena regresji liniowej w zależności od wieku piłkarzy')\n",
    "plt.grid(True)\n",
    "plt.show()"
   ]
  },
  {
   "cell_type": "markdown",
   "id": "94e2c7f7-eeb7-4f2a-b47c-01275bf2d116",
   "metadata": {},
   "source": [
    "# Wnioski końcowe"
   ]
  },
  {
   "cell_type": "markdown",
   "id": "f52493ce-6ee0-492d-b152-08267557560c",
   "metadata": {},
   "source": [
    "Wyniki regresji liniowej są bardziej stabilne i spójne w porównaniu z TOPSIS i SSW.<br>\n",
    "Wariancja średniej oceny piłkarzy w grupach o tej samej wysokości była mniejsza w przypadku regresji liniowej.\n",
    "\n",
    "- Regresja liniowa jest najlepszą metodą do rankingu piłkarzy, ze względu na jej dokładność, stabilność i prostotę.\r",
    "- \n",
    "Metoda TOPSIS może być bardziej odpowiednia, jeśli priorytetem jest subiektywna identyfikacja najlepszych piłkarzy przez własne przydzielenie wag dla zmiennych.\n",
    "- \r\n",
    "Metoda SSW może być użyteczna do porównania średnich ocen piłkarzy o różnych wysokościach, ale należy zwrócić uwagę na jej wrażliwość na wartości odstające."
   ]
  },
  {
   "cell_type": "markdown",
   "id": "bd9affad-7d74-4800-b39c-b9dd146a3af0",
   "metadata": {},
   "source": [
    "## Bibliografia\n",
    "- [Regresja liniowa 1](https://matematyka.poznan.pl/artykul/regresja-liniowa-czyli-o-zastosowaniu-funkcji-liniowej-w-analizie-statystycznej/)\n",
    "- [Regresja liniowa 2](https://pogotowiestatystyczne.pl/slowniki/regresja-liniowa/)\n",
    "- [SSW](https://study.com/skill/learn/how-to-calculate-the-total-sum-of-squares-within-and-between-ssw-and-ssb-explanation.html)\n",
    "- [TOPSIS](https://repozytorium.uwb.edu.pl/jspui/bitstream/11320/7542/1/Optimum_4_2018_D_Kacprzak_Przedzialowa_metoda_TOPSIS.pdf)"
   ]
  }
 ],
 "metadata": {
  "kernelspec": {
   "display_name": "Python 3 (ipykernel)",
   "language": "python",
   "name": "python3"
  },
  "language_info": {
   "codemirror_mode": {
    "name": "ipython",
    "version": 3
   },
   "file_extension": ".py",
   "mimetype": "text/x-python",
   "name": "python",
   "nbconvert_exporter": "python",
   "pygments_lexer": "ipython3",
   "version": "3.11.7"
  }
 },
 "nbformat": 4,
 "nbformat_minor": 5
}
